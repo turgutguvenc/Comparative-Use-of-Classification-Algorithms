{
 "cells": [
  {
   "cell_type": "code",
   "execution_count": 1,
   "id": "south-space",
   "metadata": {
    "_cell_guid": "b1076dfc-b9ad-4769-8c92-a6c4dae69d19",
    "_uuid": "8f2839f25d086af736a60e9eeb907d3b93b6e0e5",
    "execution": {
     "iopub.execute_input": "2021-05-01T23:06:19.759087Z",
     "iopub.status.busy": "2021-05-01T23:06:19.757953Z",
     "iopub.status.idle": "2021-05-01T23:06:19.784992Z",
     "shell.execute_reply": "2021-05-01T23:06:19.784216Z"
    },
    "papermill": {
     "duration": 0.068347,
     "end_time": "2021-05-01T23:06:19.785177",
     "exception": false,
     "start_time": "2021-05-01T23:06:19.716830",
     "status": "completed"
    },
    "tags": []
   },
   "outputs": [
    {
     "name": "stdout",
     "output_type": "stream",
     "text": [
      "/kaggle/input/social-network-ads/Social_Network_Ads.csv\n",
      "/kaggle/input/knneigbor/knn.PNG\n"
     ]
    }
   ],
   "source": [
    "# This Python 3 environment comes with many helpful analytics libraries installed\n",
    "# It is defined by the kaggle/python Docker image: https://github.com/kaggle/docker-python\n",
    "# For example, here's several helpful packages to load\n",
    "\n",
    "import numpy as np # linear algebra\n",
    "import pandas as pd # data processing, CSV file I/O (e.g. pd.read_csv)\n",
    "\n",
    "# Input data files are available in the read-only \"../input/\" directory\n",
    "# For example, running this (by clicking run or pressing Shift+Enter) will list all files under the input directory\n",
    "\n",
    "import os\n",
    "for dirname, _, filenames in os.walk('/kaggle/input'):\n",
    "    for filename in filenames:\n",
    "        print(os.path.join(dirname, filename))\n",
    "\n",
    "# You can write up to 20GB to the current directory (/kaggle/working/) that gets preserved as output when you create a version using \"Save & Run All\" \n",
    "# You can also write temporary files to /kaggle/temp/, but they won't be saved outside of the current session"
   ]
  },
  {
   "cell_type": "code",
   "execution_count": 2,
   "id": "later-party",
   "metadata": {
    "execution": {
     "iopub.execute_input": "2021-05-01T23:06:19.868190Z",
     "iopub.status.busy": "2021-05-01T23:06:19.867556Z",
     "iopub.status.idle": "2021-05-01T23:06:20.766776Z",
     "shell.execute_reply": "2021-05-01T23:06:20.766030Z"
    },
    "papermill": {
     "duration": 0.943966,
     "end_time": "2021-05-01T23:06:20.766920",
     "exception": false,
     "start_time": "2021-05-01T23:06:19.822954",
     "status": "completed"
    },
    "tags": []
   },
   "outputs": [],
   "source": [
    "import matplotlib.pyplot as plt\n",
    "import seaborn as sns"
   ]
  },
  {
   "cell_type": "markdown",
   "id": "weighted-dodge",
   "metadata": {
    "papermill": {
     "duration": 0.036973,
     "end_time": "2021-05-01T23:06:20.841482",
     "exception": false,
     "start_time": "2021-05-01T23:06:20.804509",
     "status": "completed"
    },
    "tags": []
   },
   "source": [
    "## A. Exploratory Data Analysis"
   ]
  },
  {
   "cell_type": "code",
   "execution_count": 3,
   "id": "geographic-jurisdiction",
   "metadata": {
    "execution": {
     "iopub.execute_input": "2021-05-01T23:06:20.920887Z",
     "iopub.status.busy": "2021-05-01T23:06:20.920260Z",
     "iopub.status.idle": "2021-05-01T23:06:20.959374Z",
     "shell.execute_reply": "2021-05-01T23:06:20.959844Z"
    },
    "papermill": {
     "duration": 0.080818,
     "end_time": "2021-05-01T23:06:20.960036",
     "exception": false,
     "start_time": "2021-05-01T23:06:20.879218",
     "status": "completed"
    },
    "tags": []
   },
   "outputs": [
    {
     "data": {
      "text/html": [
       "<div>\n",
       "<style scoped>\n",
       "    .dataframe tbody tr th:only-of-type {\n",
       "        vertical-align: middle;\n",
       "    }\n",
       "\n",
       "    .dataframe tbody tr th {\n",
       "        vertical-align: top;\n",
       "    }\n",
       "\n",
       "    .dataframe thead th {\n",
       "        text-align: right;\n",
       "    }\n",
       "</style>\n",
       "<table border=\"1\" class=\"dataframe\">\n",
       "  <thead>\n",
       "    <tr style=\"text-align: right;\">\n",
       "      <th></th>\n",
       "      <th>Age</th>\n",
       "      <th>EstimatedSalary</th>\n",
       "      <th>Purchased</th>\n",
       "    </tr>\n",
       "  </thead>\n",
       "  <tbody>\n",
       "    <tr>\n",
       "      <th>0</th>\n",
       "      <td>19</td>\n",
       "      <td>19000</td>\n",
       "      <td>0</td>\n",
       "    </tr>\n",
       "    <tr>\n",
       "      <th>1</th>\n",
       "      <td>35</td>\n",
       "      <td>20000</td>\n",
       "      <td>0</td>\n",
       "    </tr>\n",
       "    <tr>\n",
       "      <th>2</th>\n",
       "      <td>26</td>\n",
       "      <td>43000</td>\n",
       "      <td>0</td>\n",
       "    </tr>\n",
       "    <tr>\n",
       "      <th>3</th>\n",
       "      <td>27</td>\n",
       "      <td>57000</td>\n",
       "      <td>0</td>\n",
       "    </tr>\n",
       "    <tr>\n",
       "      <th>4</th>\n",
       "      <td>19</td>\n",
       "      <td>76000</td>\n",
       "      <td>0</td>\n",
       "    </tr>\n",
       "    <tr>\n",
       "      <th>...</th>\n",
       "      <td>...</td>\n",
       "      <td>...</td>\n",
       "      <td>...</td>\n",
       "    </tr>\n",
       "    <tr>\n",
       "      <th>395</th>\n",
       "      <td>46</td>\n",
       "      <td>41000</td>\n",
       "      <td>1</td>\n",
       "    </tr>\n",
       "    <tr>\n",
       "      <th>396</th>\n",
       "      <td>51</td>\n",
       "      <td>23000</td>\n",
       "      <td>1</td>\n",
       "    </tr>\n",
       "    <tr>\n",
       "      <th>397</th>\n",
       "      <td>50</td>\n",
       "      <td>20000</td>\n",
       "      <td>1</td>\n",
       "    </tr>\n",
       "    <tr>\n",
       "      <th>398</th>\n",
       "      <td>36</td>\n",
       "      <td>33000</td>\n",
       "      <td>0</td>\n",
       "    </tr>\n",
       "    <tr>\n",
       "      <th>399</th>\n",
       "      <td>49</td>\n",
       "      <td>36000</td>\n",
       "      <td>1</td>\n",
       "    </tr>\n",
       "  </tbody>\n",
       "</table>\n",
       "<p>400 rows × 3 columns</p>\n",
       "</div>"
      ],
      "text/plain": [
       "     Age  EstimatedSalary  Purchased\n",
       "0     19            19000          0\n",
       "1     35            20000          0\n",
       "2     26            43000          0\n",
       "3     27            57000          0\n",
       "4     19            76000          0\n",
       "..   ...              ...        ...\n",
       "395   46            41000          1\n",
       "396   51            23000          1\n",
       "397   50            20000          1\n",
       "398   36            33000          0\n",
       "399   49            36000          1\n",
       "\n",
       "[400 rows x 3 columns]"
      ]
     },
     "execution_count": 3,
     "metadata": {},
     "output_type": "execute_result"
    }
   ],
   "source": [
    "df= pd.read_csv(\"../input/social-network-ads/Social_Network_Ads.csv\")\n",
    "df"
   ]
  },
  {
   "cell_type": "code",
   "execution_count": 4,
   "id": "centered-absorption",
   "metadata": {
    "execution": {
     "iopub.execute_input": "2021-05-01T23:06:21.053263Z",
     "iopub.status.busy": "2021-05-01T23:06:21.045806Z",
     "iopub.status.idle": "2021-05-01T23:06:21.057462Z",
     "shell.execute_reply": "2021-05-01T23:06:21.056936Z"
    },
    "papermill": {
     "duration": 0.056535,
     "end_time": "2021-05-01T23:06:21.057605",
     "exception": false,
     "start_time": "2021-05-01T23:06:21.001070",
     "status": "completed"
    },
    "tags": []
   },
   "outputs": [
    {
     "data": {
      "text/html": [
       "<div>\n",
       "<style scoped>\n",
       "    .dataframe tbody tr th:only-of-type {\n",
       "        vertical-align: middle;\n",
       "    }\n",
       "\n",
       "    .dataframe tbody tr th {\n",
       "        vertical-align: top;\n",
       "    }\n",
       "\n",
       "    .dataframe thead th {\n",
       "        text-align: right;\n",
       "    }\n",
       "</style>\n",
       "<table border=\"1\" class=\"dataframe\">\n",
       "  <thead>\n",
       "    <tr style=\"text-align: right;\">\n",
       "      <th></th>\n",
       "      <th>Age</th>\n",
       "      <th>EstimatedSalary</th>\n",
       "      <th>Purchased</th>\n",
       "    </tr>\n",
       "  </thead>\n",
       "  <tbody>\n",
       "    <tr>\n",
       "      <th>Age</th>\n",
       "      <td>1.000000</td>\n",
       "      <td>0.155238</td>\n",
       "      <td>0.622454</td>\n",
       "    </tr>\n",
       "    <tr>\n",
       "      <th>EstimatedSalary</th>\n",
       "      <td>0.155238</td>\n",
       "      <td>1.000000</td>\n",
       "      <td>0.362083</td>\n",
       "    </tr>\n",
       "    <tr>\n",
       "      <th>Purchased</th>\n",
       "      <td>0.622454</td>\n",
       "      <td>0.362083</td>\n",
       "      <td>1.000000</td>\n",
       "    </tr>\n",
       "  </tbody>\n",
       "</table>\n",
       "</div>"
      ],
      "text/plain": [
       "                      Age  EstimatedSalary  Purchased\n",
       "Age              1.000000         0.155238   0.622454\n",
       "EstimatedSalary  0.155238         1.000000   0.362083\n",
       "Purchased        0.622454         0.362083   1.000000"
      ]
     },
     "execution_count": 4,
     "metadata": {},
     "output_type": "execute_result"
    }
   ],
   "source": [
    "df.corr() # Lets look at statistical correlation\n",
    "#There is positive high correlation between Age and Purchased items"
   ]
  },
  {
   "cell_type": "code",
   "execution_count": 5,
   "id": "pediatric-panic",
   "metadata": {
    "execution": {
     "iopub.execute_input": "2021-05-01T23:06:21.156993Z",
     "iopub.status.busy": "2021-05-01T23:06:21.156329Z",
     "iopub.status.idle": "2021-05-01T23:06:21.465011Z",
     "shell.execute_reply": "2021-05-01T23:06:21.464416Z"
    },
    "papermill": {
     "duration": 0.368794,
     "end_time": "2021-05-01T23:06:21.465172",
     "exception": false,
     "start_time": "2021-05-01T23:06:21.096378",
     "status": "completed"
    },
    "tags": []
   },
   "outputs": [
    {
     "data": {
      "text/plain": [
       "<AxesSubplot:>"
      ]
     },
     "execution_count": 5,
     "metadata": {},
     "output_type": "execute_result"
    },
    {
     "data": {
      "image/png": "[encoded data removed]",
      "text/plain": [
       "<Figure size 1080x720 with 2 Axes>"
      ]
     },
     "metadata": {
      "needs_background": "light"
     },
     "output_type": "display_data"
    }
   ],
   "source": [
    "plt.figure(figsize=(15,10))\n",
    "sns.heatmap(df.corr(),cmap=\"jet\",annot=True)\n",
    "#here we visualize the correlations"
   ]
  },
  {
   "cell_type": "code",
   "execution_count": 6,
   "id": "constitutional-gather",
   "metadata": {
    "execution": {
     "iopub.execute_input": "2021-05-01T23:06:21.560880Z",
     "iopub.status.busy": "2021-05-01T23:06:21.560200Z",
     "iopub.status.idle": "2021-05-01T23:06:22.305629Z",
     "shell.execute_reply": "2021-05-01T23:06:22.306074Z"
    },
    "papermill": {
     "duration": 0.800737,
     "end_time": "2021-05-01T23:06:22.306272",
     "exception": false,
     "start_time": "2021-05-01T23:06:21.505535",
     "status": "completed"
    },
    "tags": []
   },
   "outputs": [
    {
     "data": {
      "text/plain": [
       "<AxesSubplot:xlabel='Age', ylabel='count'>"
      ]
     },
     "execution_count": 6,
     "metadata": {},
     "output_type": "execute_result"
    },
    {
     "data": {
      "image/png": "[encoded data removed]",
      "text/plain": [
       "<Figure size 1080x720 with 1 Axes>"
      ]
     },
     "metadata": {
      "needs_background": "light"
     },
     "output_type": "display_data"
    }
   ],
   "source": [
    "plt.figure(figsize=(15,10))\n",
    "sns.countplot(data=df, x=\"Age\",hue=\"Purchased\")\n",
    "#We can see that the effects of ads is highest between ages 26 and 40\n",
    "#Therefore these ge groups are more suitable to be target group for the commercial ads"
   ]
  },
  {
   "cell_type": "code",
   "execution_count": 7,
   "id": "japanese-shoot",
   "metadata": {
    "execution": {
     "iopub.execute_input": "2021-05-01T23:06:22.391415Z",
     "iopub.status.busy": "2021-05-01T23:06:22.390715Z",
     "iopub.status.idle": "2021-05-01T23:06:22.398103Z",
     "shell.execute_reply": "2021-05-01T23:06:22.398722Z"
    },
    "papermill": {
     "duration": 0.051282,
     "end_time": "2021-05-01T23:06:22.398891",
     "exception": false,
     "start_time": "2021-05-01T23:06:22.347609",
     "status": "completed"
    },
    "tags": []
   },
   "outputs": [
    {
     "data": {
      "text/plain": [
       "Age                0\n",
       "EstimatedSalary    0\n",
       "Purchased          0\n",
       "dtype: int64"
      ]
     },
     "execution_count": 7,
     "metadata": {},
     "output_type": "execute_result"
    }
   ],
   "source": [
    "df.isnull().sum() # we do not have any missing values"
   ]
  },
  {
   "cell_type": "code",
   "execution_count": 8,
   "id": "opposite-tennis",
   "metadata": {
    "execution": {
     "iopub.execute_input": "2021-05-01T23:06:22.498272Z",
     "iopub.status.busy": "2021-05-01T23:06:22.497321Z",
     "iopub.status.idle": "2021-05-01T23:06:22.500682Z",
     "shell.execute_reply": "2021-05-01T23:06:22.501165Z"
    },
    "papermill": {
     "duration": 0.061165,
     "end_time": "2021-05-01T23:06:22.501357",
     "exception": false,
     "start_time": "2021-05-01T23:06:22.440192",
     "status": "completed"
    },
    "tags": []
   },
   "outputs": [
    {
     "name": "stdout",
     "output_type": "stream",
     "text": [
      "<class 'pandas.core.frame.DataFrame'>\n",
      "RangeIndex: 400 entries, 0 to 399\n",
      "Data columns (total 3 columns):\n",
      " #   Column           Non-Null Count  Dtype\n",
      "---  ------           --------------  -----\n",
      " 0   Age              400 non-null    int64\n",
      " 1   EstimatedSalary  400 non-null    int64\n",
      " 2   Purchased        400 non-null    int64\n",
      "dtypes: int64(3)\n",
      "memory usage: 9.5 KB\n"
     ]
    }
   ],
   "source": [
    "df.info() # we do not have any non numerical values in the columns"
   ]
  },
  {
   "cell_type": "markdown",
   "id": "starting-contact",
   "metadata": {
    "papermill": {
     "duration": 0.041513,
     "end_time": "2021-05-01T23:06:22.584358",
     "exception": false,
     "start_time": "2021-05-01T23:06:22.542845",
     "status": "completed"
    },
    "tags": []
   },
   "source": [
    "## B. Preparing Data For Algorithms"
   ]
  },
  {
   "cell_type": "markdown",
   "id": "straight-nebraska",
   "metadata": {
    "papermill": {
     "duration": 0.041065,
     "end_time": "2021-05-01T23:06:22.666866",
     "exception": false,
     "start_time": "2021-05-01T23:06:22.625801",
     "status": "completed"
    },
    "tags": []
   },
   "source": [
    "1. Splitting Data into Train and Test Sets"
   ]
  },
  {
   "cell_type": "code",
   "execution_count": 9,
   "id": "written-constitution",
   "metadata": {
    "execution": {
     "iopub.execute_input": "2021-05-01T23:06:22.753870Z",
     "iopub.status.busy": "2021-05-01T23:06:22.752921Z",
     "iopub.status.idle": "2021-05-01T23:06:22.759512Z",
     "shell.execute_reply": "2021-05-01T23:06:22.759961Z"
    },
    "papermill": {
     "duration": 0.051447,
     "end_time": "2021-05-01T23:06:22.760132",
     "exception": false,
     "start_time": "2021-05-01T23:06:22.708685",
     "status": "completed"
    },
    "tags": []
   },
   "outputs": [
    {
     "data": {
      "text/plain": [
       "(400, 2)"
      ]
     },
     "execution_count": 9,
     "metadata": {},
     "output_type": "execute_result"
    }
   ],
   "source": [
    "X = df.drop(\"Purchased\",axis=1).values\n",
    "X.shape"
   ]
  },
  {
   "cell_type": "code",
   "execution_count": 10,
   "id": "racial-enclosure",
   "metadata": {
    "execution": {
     "iopub.execute_input": "2021-05-01T23:06:22.852573Z",
     "iopub.status.busy": "2021-05-01T23:06:22.851742Z",
     "iopub.status.idle": "2021-05-01T23:06:22.856272Z",
     "shell.execute_reply": "2021-05-01T23:06:22.856766Z"
    },
    "papermill": {
     "duration": 0.053168,
     "end_time": "2021-05-01T23:06:22.856929",
     "exception": false,
     "start_time": "2021-05-01T23:06:22.803761",
     "status": "completed"
    },
    "tags": []
   },
   "outputs": [
    {
     "data": {
      "text/plain": [
       "(400,)"
      ]
     },
     "execution_count": 10,
     "metadata": {},
     "output_type": "execute_result"
    }
   ],
   "source": [
    "y = df[\"Purchased\"].values\n",
    "y.shape"
   ]
  },
  {
   "cell_type": "code",
   "execution_count": 11,
   "id": "disciplinary-accordance",
   "metadata": {
    "execution": {
     "iopub.execute_input": "2021-05-01T23:06:22.947887Z",
     "iopub.status.busy": "2021-05-01T23:06:22.947208Z",
     "iopub.status.idle": "2021-05-01T23:06:23.268865Z",
     "shell.execute_reply": "2021-05-01T23:06:23.268293Z"
    },
    "papermill": {
     "duration": 0.367407,
     "end_time": "2021-05-01T23:06:23.269011",
     "exception": false,
     "start_time": "2021-05-01T23:06:22.901604",
     "status": "completed"
    },
    "tags": []
   },
   "outputs": [],
   "source": [
    "from sklearn.model_selection import train_test_split\n",
    "X_train, X_test, y_train, y_test = train_test_split(X, y, test_size = 0.25, random_state = 0)"
   ]
  },
  {
   "cell_type": "code",
   "execution_count": 12,
   "id": "statutory-depth",
   "metadata": {
    "execution": {
     "iopub.execute_input": "2021-05-01T23:06:23.360291Z",
     "iopub.status.busy": "2021-05-01T23:06:23.359605Z",
     "iopub.status.idle": "2021-05-01T23:06:23.362289Z",
     "shell.execute_reply": "2021-05-01T23:06:23.362769Z"
    },
    "papermill": {
     "duration": 0.05083,
     "end_time": "2021-05-01T23:06:23.362933",
     "exception": false,
     "start_time": "2021-05-01T23:06:23.312103",
     "status": "completed"
    },
    "tags": []
   },
   "outputs": [
    {
     "data": {
      "text/plain": [
       "(300, 2)"
      ]
     },
     "execution_count": 12,
     "metadata": {},
     "output_type": "execute_result"
    }
   ],
   "source": [
    "X_train.shape"
   ]
  },
  {
   "cell_type": "code",
   "execution_count": 13,
   "id": "composite-liberal",
   "metadata": {
    "execution": {
     "iopub.execute_input": "2021-05-01T23:06:23.452925Z",
     "iopub.status.busy": "2021-05-01T23:06:23.452202Z",
     "iopub.status.idle": "2021-05-01T23:06:23.458476Z",
     "shell.execute_reply": "2021-05-01T23:06:23.458952Z"
    },
    "papermill": {
     "duration": 0.052778,
     "end_time": "2021-05-01T23:06:23.459112",
     "exception": false,
     "start_time": "2021-05-01T23:06:23.406334",
     "status": "completed"
    },
    "tags": []
   },
   "outputs": [
    {
     "data": {
      "text/plain": [
       "(300,)"
      ]
     },
     "execution_count": 13,
     "metadata": {},
     "output_type": "execute_result"
    }
   ],
   "source": [
    "y_train.shape"
   ]
  },
  {
   "cell_type": "code",
   "execution_count": 14,
   "id": "selective-provincial",
   "metadata": {
    "execution": {
     "iopub.execute_input": "2021-05-01T23:06:23.549629Z",
     "iopub.status.busy": "2021-05-01T23:06:23.548976Z",
     "iopub.status.idle": "2021-05-01T23:06:23.554851Z",
     "shell.execute_reply": "2021-05-01T23:06:23.554332Z"
    },
    "papermill": {
     "duration": 0.0523,
     "end_time": "2021-05-01T23:06:23.554986",
     "exception": false,
     "start_time": "2021-05-01T23:06:23.502686",
     "status": "completed"
    },
    "tags": []
   },
   "outputs": [
    {
     "data": {
      "text/plain": [
       "(100, 2)"
      ]
     },
     "execution_count": 14,
     "metadata": {},
     "output_type": "execute_result"
    }
   ],
   "source": [
    "X_test.shape"
   ]
  },
  {
   "cell_type": "code",
   "execution_count": 15,
   "id": "median-turner",
   "metadata": {
    "execution": {
     "iopub.execute_input": "2021-05-01T23:06:23.648093Z",
     "iopub.status.busy": "2021-05-01T23:06:23.647475Z",
     "iopub.status.idle": "2021-05-01T23:06:23.650361Z",
     "shell.execute_reply": "2021-05-01T23:06:23.650858Z"
    },
    "papermill": {
     "duration": 0.051803,
     "end_time": "2021-05-01T23:06:23.651017",
     "exception": false,
     "start_time": "2021-05-01T23:06:23.599214",
     "status": "completed"
    },
    "tags": []
   },
   "outputs": [
    {
     "data": {
      "text/plain": [
       "(100,)"
      ]
     },
     "execution_count": 15,
     "metadata": {},
     "output_type": "execute_result"
    }
   ],
   "source": [
    "y_test.shape"
   ]
  },
  {
   "cell_type": "markdown",
   "id": "honest-rally",
   "metadata": {
    "papermill": {
     "duration": 0.043999,
     "end_time": "2021-05-01T23:06:23.739436",
     "exception": false,
     "start_time": "2021-05-01T23:06:23.695437",
     "status": "completed"
    },
    "tags": []
   },
   "source": [
    "2.Feature Scaling"
   ]
  },
  {
   "cell_type": "code",
   "execution_count": 16,
   "id": "criminal-postage",
   "metadata": {
    "execution": {
     "iopub.execute_input": "2021-05-01T23:06:23.833568Z",
     "iopub.status.busy": "2021-05-01T23:06:23.832791Z",
     "iopub.status.idle": "2021-05-01T23:06:23.849299Z",
     "shell.execute_reply": "2021-05-01T23:06:23.849879Z"
    },
    "papermill": {
     "duration": 0.066115,
     "end_time": "2021-05-01T23:06:23.850053",
     "exception": false,
     "start_time": "2021-05-01T23:06:23.783938",
     "status": "completed"
    },
    "tags": []
   },
   "outputs": [
    {
     "data": {
      "text/plain": [
       "array([[ 0.58164944, -0.88670699],\n",
       "       [-0.60673761,  1.46173768],\n",
       "       [-0.01254409, -0.5677824 ],\n",
       "       [-0.60673761,  1.89663484],\n",
       "       [ 1.37390747, -1.40858358],\n",
       "       [ 1.47293972,  0.99784738],\n",
       "       [ 0.08648817, -0.79972756],\n",
       "       [-0.01254409, -0.24885782],\n",
       "       [-0.21060859, -0.5677824 ],\n",
       "       [-0.21060859, -0.19087153],\n",
       "       [-0.30964085, -1.29261101],\n",
       "       [-0.30964085, -0.5677824 ],\n",
       "       [ 0.38358493,  0.09905991],\n",
       "       [ 0.8787462 , -0.59677555],\n",
       "       [ 2.06713324, -1.17663843],\n",
       "       [ 1.07681071, -0.13288524],\n",
       "       [ 0.68068169,  1.78066227],\n",
       "       [-0.70576986,  0.56295021],\n",
       "       [ 0.77971394,  0.35999821],\n",
       "       [ 0.8787462 , -0.53878926],\n",
       "       [-1.20093113, -1.58254245],\n",
       "       [ 2.1661655 ,  0.93986109],\n",
       "       [-0.01254409,  1.22979253],\n",
       "       [ 0.18552042,  1.08482681],\n",
       "       [ 0.38358493, -0.48080297],\n",
       "       [-0.30964085, -0.30684411],\n",
       "       [ 0.97777845, -0.8287207 ],\n",
       "       [ 0.97777845,  1.8676417 ],\n",
       "       [-0.01254409,  1.25878567],\n",
       "       [-0.90383437,  2.27354572],\n",
       "       [-1.20093113, -1.58254245],\n",
       "       [ 2.1661655 , -0.79972756],\n",
       "       [-1.39899564, -1.46656987],\n",
       "       [ 0.38358493,  2.30253886],\n",
       "       [ 0.77971394,  0.76590222],\n",
       "       [-1.00286662, -0.30684411],\n",
       "       [ 0.08648817,  0.76590222],\n",
       "       [-1.00286662,  0.56295021],\n",
       "       [ 0.28455268,  0.07006676],\n",
       "       [ 0.68068169, -1.26361786],\n",
       "       [-0.50770535, -0.01691267],\n",
       "       [-1.79512465,  0.35999821],\n",
       "       [-0.70576986,  0.12805305],\n",
       "       [ 0.38358493,  0.30201192],\n",
       "       [-0.30964085,  0.07006676],\n",
       "       [-0.50770535,  2.30253886],\n",
       "       [ 0.18552042,  0.04107362],\n",
       "       [ 1.27487521,  2.21555943],\n",
       "       [ 0.77971394,  0.27301877],\n",
       "       [-0.30964085,  0.1570462 ],\n",
       "       [-0.01254409, -0.53878926],\n",
       "       [-0.21060859,  0.1570462 ],\n",
       "       [-0.11157634,  0.24402563],\n",
       "       [-0.01254409, -0.24885782],\n",
       "       [ 2.1661655 ,  1.11381995],\n",
       "       [-1.79512465,  0.35999821],\n",
       "       [ 1.86906873,  0.12805305],\n",
       "       [ 0.38358493, -0.13288524],\n",
       "       [-1.20093113,  0.30201192],\n",
       "       [ 0.77971394,  1.37475825],\n",
       "       [-0.30964085, -0.24885782],\n",
       "       [-1.6960924 , -0.04590581],\n",
       "       [-1.00286662, -0.74174127],\n",
       "       [ 0.28455268,  0.50496393],\n",
       "       [-0.11157634, -1.06066585],\n",
       "       [-1.10189888,  0.59194336],\n",
       "       [ 0.08648817, -0.79972756],\n",
       "       [-1.00286662,  1.54871711],\n",
       "       [-0.70576986,  1.40375139],\n",
       "       [-1.29996338,  0.50496393],\n",
       "       [-0.30964085,  0.04107362],\n",
       "       [-0.11157634,  0.01208048],\n",
       "       [-0.30964085, -0.88670699],\n",
       "       [ 0.8787462 , -1.3505973 ],\n",
       "       [-0.30964085,  2.24455257],\n",
       "       [ 0.97777845,  1.98361427],\n",
       "       [-1.20093113,  0.47597078],\n",
       "       [-1.29996338,  0.27301877],\n",
       "       [ 1.37390747,  1.98361427],\n",
       "       [ 1.27487521, -1.3505973 ],\n",
       "       [-0.30964085, -0.27785096],\n",
       "       [-0.50770535,  1.25878567],\n",
       "       [-0.80480212,  1.08482681],\n",
       "       [ 0.97777845, -1.06066585],\n",
       "       [ 0.28455268,  0.30201192],\n",
       "       [ 0.97777845,  0.76590222],\n",
       "       [-0.70576986, -1.49556302],\n",
       "       [-0.70576986,  0.04107362],\n",
       "       [ 0.48261718,  1.72267598],\n",
       "       [ 2.06713324,  0.18603934],\n",
       "       [-1.99318916, -0.74174127],\n",
       "       [-0.21060859,  1.40375139],\n",
       "       [ 0.38358493,  0.59194336],\n",
       "       [ 0.8787462 , -1.14764529],\n",
       "       [-1.20093113, -0.77073441],\n",
       "       [ 0.18552042,  0.24402563],\n",
       "       [ 0.77971394, -0.30684411],\n",
       "       [ 2.06713324, -0.79972756],\n",
       "       [ 0.77971394,  0.12805305],\n",
       "       [-0.30964085,  0.6209365 ],\n",
       "       [-1.00286662, -0.30684411],\n",
       "       [ 0.18552042, -0.3648304 ],\n",
       "       [ 2.06713324,  2.12857999],\n",
       "       [ 1.86906873, -1.26361786],\n",
       "       [ 1.37390747, -0.91570013],\n",
       "       [ 0.8787462 ,  1.25878567],\n",
       "       [ 1.47293972,  2.12857999],\n",
       "       [-0.30964085, -1.23462472],\n",
       "       [ 1.96810099,  0.91086794],\n",
       "       [ 0.68068169, -0.71274813],\n",
       "       [-1.49802789,  0.35999821],\n",
       "       [ 0.77971394, -1.3505973 ],\n",
       "       [ 0.38358493, -0.13288524],\n",
       "       [-1.00286662,  0.41798449],\n",
       "       [-0.01254409, -0.30684411],\n",
       "       [-1.20093113,  0.41798449],\n",
       "       [-0.90383437, -1.20563157],\n",
       "       [-0.11157634,  0.04107362],\n",
       "       [-1.59706014, -0.42281668],\n",
       "       [ 0.97777845, -1.00267957],\n",
       "       [ 1.07681071, -1.20563157],\n",
       "       [-0.01254409, -0.13288524],\n",
       "       [-1.10189888, -1.52455616],\n",
       "       [ 0.77971394, -1.20563157],\n",
       "       [ 0.97777845,  2.07059371],\n",
       "       [-1.20093113, -1.52455616],\n",
       "       [-0.30964085,  0.79489537],\n",
       "       [ 0.08648817, -0.30684411],\n",
       "       [-1.39899564, -1.23462472],\n",
       "       [-0.60673761, -1.49556302],\n",
       "       [ 0.77971394,  0.53395707],\n",
       "       [-0.30964085, -0.33583725],\n",
       "       [ 1.77003648, -0.27785096],\n",
       "       [ 0.8787462 , -1.03167271],\n",
       "       [ 0.18552042,  0.07006676],\n",
       "       [-0.60673761,  0.8818748 ],\n",
       "       [-1.89415691, -1.40858358],\n",
       "       [-1.29996338,  0.59194336],\n",
       "       [-0.30964085,  0.53395707],\n",
       "       [-1.00286662, -1.089659  ],\n",
       "       [ 1.17584296, -1.43757673],\n",
       "       [ 0.18552042, -0.30684411],\n",
       "       [ 1.17584296, -0.74174127],\n",
       "       [-0.30964085,  0.07006676],\n",
       "       [ 0.18552042,  2.09958685],\n",
       "       [ 0.77971394, -1.089659  ],\n",
       "       [ 0.08648817,  0.04107362],\n",
       "       [-1.79512465,  0.12805305],\n",
       "       [-0.90383437,  0.1570462 ],\n",
       "       [-0.70576986,  0.18603934],\n",
       "       [ 0.8787462 , -1.29261101],\n",
       "       [ 0.18552042, -0.24885782],\n",
       "       [-0.4086731 ,  1.22979253],\n",
       "       [-0.01254409,  0.30201192],\n",
       "       [ 0.38358493,  0.1570462 ],\n",
       "       [ 0.8787462 , -0.65476184],\n",
       "       [ 0.08648817,  0.1570462 ],\n",
       "       [-1.89415691, -1.29261101],\n",
       "       [-0.11157634,  0.30201192],\n",
       "       [-0.21060859, -0.27785096],\n",
       "       [ 0.28455268, -0.50979612],\n",
       "       [-0.21060859,  1.6067034 ],\n",
       "       [ 0.97777845, -1.17663843],\n",
       "       [-0.21060859,  1.63569655],\n",
       "       [ 1.27487521,  1.8676417 ],\n",
       "       [-1.10189888, -0.3648304 ],\n",
       "       [-0.01254409,  0.04107362],\n",
       "       [ 0.08648817, -0.24885782],\n",
       "       [-1.59706014, -1.23462472],\n",
       "       [-0.50770535, -0.27785096],\n",
       "       [ 0.97777845,  0.12805305],\n",
       "       [ 1.96810099, -1.3505973 ],\n",
       "       [ 1.47293972,  0.07006676],\n",
       "       [-0.60673761,  1.37475825],\n",
       "       [ 1.57197197,  0.01208048],\n",
       "       [-0.80480212,  0.30201192],\n",
       "       [ 1.96810099,  0.73690908],\n",
       "       [-1.20093113, -0.50979612],\n",
       "       [ 0.68068169,  0.27301877],\n",
       "       [-1.39899564, -0.42281668],\n",
       "       [ 0.18552042,  0.1570462 ],\n",
       "       [-0.50770535, -1.20563157],\n",
       "       [ 0.58164944,  2.01260742],\n",
       "       [-1.59706014, -1.49556302],\n",
       "       [-0.50770535, -0.53878926],\n",
       "       [ 0.48261718,  1.83864855],\n",
       "       [-1.39899564, -1.089659  ],\n",
       "       [ 0.77971394, -1.37959044],\n",
       "       [-0.30964085, -0.42281668],\n",
       "       [ 1.57197197,  0.99784738],\n",
       "       [ 0.97777845,  1.43274454],\n",
       "       [-0.30964085, -0.48080297],\n",
       "       [-0.11157634,  2.15757314],\n",
       "       [-1.49802789, -0.1038921 ],\n",
       "       [-0.11157634,  1.95462113],\n",
       "       [-0.70576986, -0.33583725],\n",
       "       [-0.50770535, -0.8287207 ],\n",
       "       [ 0.68068169, -1.37959044],\n",
       "       [-0.80480212, -1.58254245],\n",
       "       [-1.89415691, -1.46656987],\n",
       "       [ 1.07681071,  0.12805305],\n",
       "       [ 0.08648817,  1.51972397],\n",
       "       [-0.30964085,  0.09905991],\n",
       "       [ 0.08648817,  0.04107362],\n",
       "       [-1.39899564, -1.3505973 ],\n",
       "       [ 0.28455268,  0.07006676],\n",
       "       [-0.90383437,  0.38899135],\n",
       "       [ 1.57197197, -1.26361786],\n",
       "       [-0.30964085, -0.74174127],\n",
       "       [-0.11157634,  0.1570462 ],\n",
       "       [-0.90383437, -0.65476184],\n",
       "       [-0.70576986, -0.04590581],\n",
       "       [ 0.38358493, -0.45180983],\n",
       "       [-0.80480212,  1.89663484],\n",
       "       [ 1.37390747,  1.28777882],\n",
       "       [ 1.17584296, -0.97368642],\n",
       "       [ 1.77003648,  1.83864855],\n",
       "       [-0.90383437, -0.24885782],\n",
       "       [-0.80480212,  0.56295021],\n",
       "       [-1.20093113, -1.5535493 ],\n",
       "       [-0.50770535, -1.11865214],\n",
       "       [ 0.28455268,  0.07006676],\n",
       "       [-0.21060859, -1.06066585],\n",
       "       [ 1.67100423,  1.6067034 ],\n",
       "       [ 0.97777845,  1.78066227],\n",
       "       [ 0.28455268,  0.04107362],\n",
       "       [-0.80480212, -0.21986468],\n",
       "       [-0.11157634,  0.07006676],\n",
       "       [ 0.28455268, -0.19087153],\n",
       "       [ 1.96810099, -0.65476184],\n",
       "       [-0.80480212,  1.3457651 ],\n",
       "       [-1.79512465, -0.59677555],\n",
       "       [-0.11157634,  0.12805305],\n",
       "       [ 0.28455268, -0.30684411],\n",
       "       [ 1.07681071,  0.56295021],\n",
       "       [-1.00286662,  0.27301877],\n",
       "       [ 1.47293972,  0.35999821],\n",
       "       [ 0.18552042, -0.3648304 ],\n",
       "       [ 2.1661655 , -1.03167271],\n",
       "       [-0.30964085,  1.11381995],\n",
       "       [-1.6960924 ,  0.07006676],\n",
       "       [-0.01254409,  0.04107362],\n",
       "       [ 0.08648817,  1.05583366],\n",
       "       [-0.11157634, -0.3648304 ],\n",
       "       [-1.20093113,  0.07006676],\n",
       "       [-0.30964085, -1.3505973 ],\n",
       "       [ 1.57197197,  1.11381995],\n",
       "       [-0.80480212, -1.52455616],\n",
       "       [ 0.08648817,  1.8676417 ],\n",
       "       [-0.90383437, -0.77073441],\n",
       "       [-0.50770535, -0.77073441],\n",
       "       [-0.30964085, -0.91570013],\n",
       "       [ 0.28455268, -0.71274813],\n",
       "       [ 0.28455268,  0.07006676],\n",
       "       [ 0.08648817,  1.8676417 ],\n",
       "       [-1.10189888,  1.95462113],\n",
       "       [-1.6960924 , -1.5535493 ],\n",
       "       [-1.20093113, -1.089659  ],\n",
       "       [-0.70576986, -0.1038921 ],\n",
       "       [ 0.08648817,  0.09905991],\n",
       "       [ 0.28455268,  0.27301877],\n",
       "       [ 0.8787462 , -0.5677824 ],\n",
       "       [ 0.28455268, -1.14764529],\n",
       "       [-0.11157634,  0.67892279],\n",
       "       [ 2.1661655 , -0.68375498],\n",
       "       [-1.29996338, -1.37959044],\n",
       "       [-1.00286662, -0.94469328],\n",
       "       [-0.01254409, -0.42281668],\n",
       "       [-0.21060859, -0.45180983],\n",
       "       [-1.79512465, -0.97368642],\n",
       "       [ 1.77003648,  0.99784738],\n",
       "       [ 0.18552042, -0.3648304 ],\n",
       "       [ 0.38358493,  1.11381995],\n",
       "       [-1.79512465, -1.3505973 ],\n",
       "       [ 0.18552042, -0.13288524],\n",
       "       [ 0.8787462 , -1.43757673],\n",
       "       [-1.99318916,  0.47597078],\n",
       "       [-0.30964085,  0.27301877],\n",
       "       [ 1.86906873, -1.06066585],\n",
       "       [-0.4086731 ,  0.07006676],\n",
       "       [ 1.07681071, -0.88670699],\n",
       "       [-1.10189888, -1.11865214],\n",
       "       [-1.89415691,  0.01208048],\n",
       "       [ 0.08648817,  0.27301877],\n",
       "       [-1.20093113,  0.33100506],\n",
       "       [-1.29996338,  0.30201192],\n",
       "       [-1.00286662,  0.44697764],\n",
       "       [ 1.67100423, -0.88670699],\n",
       "       [ 1.17584296,  0.53395707],\n",
       "       [ 1.07681071,  0.53395707],\n",
       "       [ 1.37390747,  2.331532  ],\n",
       "       [-0.30964085, -0.13288524],\n",
       "       [ 0.38358493, -0.45180983],\n",
       "       [-0.4086731 , -0.77073441],\n",
       "       [-0.11157634, -0.50979612],\n",
       "       [ 0.97777845, -1.14764529],\n",
       "       [-0.90383437, -0.77073441],\n",
       "       [-0.21060859, -0.50979612],\n",
       "       [-1.10189888, -0.45180983],\n",
       "       [-1.20093113,  1.40375139]])"
      ]
     },
     "execution_count": 16,
     "metadata": {},
     "output_type": "execute_result"
    }
   ],
   "source": [
    "from sklearn.preprocessing import StandardScaler\n",
    "ss= StandardScaler()\n",
    "X_train= ss.fit_transform(X_train)\n",
    "X_test= ss.transform(X_test)\n",
    "X_train\n",
    "#We rescale all of the features with standart scaler which produces values between -1 and 1\n",
    "#This secures there is no value gap between features "
   ]
  },
  {
   "cell_type": "markdown",
   "id": "supposed-genius",
   "metadata": {
    "papermill": {
     "duration": 0.045674,
     "end_time": "2021-05-01T23:06:23.942350",
     "exception": false,
     "start_time": "2021-05-01T23:06:23.896676",
     "status": "completed"
    },
    "tags": []
   },
   "source": [
    "## C. Training Classification Algorithms"
   ]
  },
  {
   "cell_type": "markdown",
   "id": "present-enemy",
   "metadata": {
    "papermill": {
     "duration": 0.046347,
     "end_time": "2021-05-01T23:06:24.034511",
     "exception": false,
     "start_time": "2021-05-01T23:06:23.988164",
     "status": "completed"
    },
    "tags": []
   },
   "source": [
    "## 1. Logistic Regression:"
   ]
  },
  {
   "cell_type": "code",
   "execution_count": 17,
   "id": "essential-neighbor",
   "metadata": {
    "execution": {
     "iopub.execute_input": "2021-05-01T23:06:24.133114Z",
     "iopub.status.busy": "2021-05-01T23:06:24.132412Z",
     "iopub.status.idle": "2021-05-01T23:06:24.236607Z",
     "shell.execute_reply": "2021-05-01T23:06:24.235919Z"
    },
    "papermill": {
     "duration": 0.152857,
     "end_time": "2021-05-01T23:06:24.236766",
     "exception": false,
     "start_time": "2021-05-01T23:06:24.083909",
     "status": "completed"
    },
    "tags": []
   },
   "outputs": [],
   "source": [
    "from sklearn.linear_model import LogisticRegression"
   ]
  },
  {
   "cell_type": "code",
   "execution_count": 18,
   "id": "excessive-adjustment",
   "metadata": {
    "execution": {
     "iopub.execute_input": "2021-05-01T23:06:24.342483Z",
     "iopub.status.busy": "2021-05-01T23:06:24.341726Z",
     "iopub.status.idle": "2021-05-01T23:06:24.349147Z",
     "shell.execute_reply": "2021-05-01T23:06:24.348444Z"
    },
    "papermill": {
     "duration": 0.06681,
     "end_time": "2021-05-01T23:06:24.349314",
     "exception": false,
     "start_time": "2021-05-01T23:06:24.282504",
     "status": "completed"
    },
    "tags": []
   },
   "outputs": [
    {
     "data": {
      "text/plain": [
       "LogisticRegression()"
      ]
     },
     "execution_count": 18,
     "metadata": {},
     "output_type": "execute_result"
    }
   ],
   "source": [
    "logistic= LogisticRegression()\n",
    "logistic.fit(X_train, y_train)"
   ]
  },
  {
   "cell_type": "code",
   "execution_count": 19,
   "id": "perceived-saturday",
   "metadata": {
    "execution": {
     "iopub.execute_input": "2021-05-01T23:06:24.448220Z",
     "iopub.status.busy": "2021-05-01T23:06:24.447587Z",
     "iopub.status.idle": "2021-05-01T23:06:24.450397Z",
     "shell.execute_reply": "2021-05-01T23:06:24.450873Z"
    },
    "papermill": {
     "duration": 0.055065,
     "end_time": "2021-05-01T23:06:24.451045",
     "exception": false,
     "start_time": "2021-05-01T23:06:24.395980",
     "status": "completed"
    },
    "tags": []
   },
   "outputs": [],
   "source": [
    "predictions_logistic= logistic.predict(X_test)"
   ]
  },
  {
   "cell_type": "markdown",
   "id": "statutory-desktop",
   "metadata": {
    "papermill": {
     "duration": 0.046435,
     "end_time": "2021-05-01T23:06:24.544181",
     "exception": false,
     "start_time": "2021-05-01T23:06:24.497746",
     "status": "completed"
    },
    "tags": []
   },
   "source": [
    "Evaluation of the Performance of Logistic Regression"
   ]
  },
  {
   "cell_type": "code",
   "execution_count": 20,
   "id": "rough-premiere",
   "metadata": {
    "execution": {
     "iopub.execute_input": "2021-05-01T23:06:24.652470Z",
     "iopub.status.busy": "2021-05-01T23:06:24.651535Z",
     "iopub.status.idle": "2021-05-01T23:06:24.656057Z",
     "shell.execute_reply": "2021-05-01T23:06:24.655544Z"
    },
    "papermill": {
     "duration": 0.065391,
     "end_time": "2021-05-01T23:06:24.656203",
     "exception": false,
     "start_time": "2021-05-01T23:06:24.590812",
     "status": "completed"
    },
    "tags": []
   },
   "outputs": [
    {
     "data": {
      "text/html": [
       "<div>\n",
       "<style scoped>\n",
       "    .dataframe tbody tr th:only-of-type {\n",
       "        vertical-align: middle;\n",
       "    }\n",
       "\n",
       "    .dataframe tbody tr th {\n",
       "        vertical-align: top;\n",
       "    }\n",
       "\n",
       "    .dataframe thead th {\n",
       "        text-align: right;\n",
       "    }\n",
       "</style>\n",
       "<table border=\"1\" class=\"dataframe\">\n",
       "  <thead>\n",
       "    <tr style=\"text-align: right;\">\n",
       "      <th></th>\n",
       "      <th>Original Values</th>\n",
       "      <th>Predictions of Logistic regression</th>\n",
       "    </tr>\n",
       "  </thead>\n",
       "  <tbody>\n",
       "    <tr>\n",
       "      <th>0</th>\n",
       "      <td>0</td>\n",
       "      <td>0</td>\n",
       "    </tr>\n",
       "    <tr>\n",
       "      <th>1</th>\n",
       "      <td>0</td>\n",
       "      <td>0</td>\n",
       "    </tr>\n",
       "    <tr>\n",
       "      <th>2</th>\n",
       "      <td>0</td>\n",
       "      <td>0</td>\n",
       "    </tr>\n",
       "    <tr>\n",
       "      <th>3</th>\n",
       "      <td>0</td>\n",
       "      <td>0</td>\n",
       "    </tr>\n",
       "    <tr>\n",
       "      <th>4</th>\n",
       "      <td>0</td>\n",
       "      <td>0</td>\n",
       "    </tr>\n",
       "    <tr>\n",
       "      <th>...</th>\n",
       "      <td>...</td>\n",
       "      <td>...</td>\n",
       "    </tr>\n",
       "    <tr>\n",
       "      <th>95</th>\n",
       "      <td>1</td>\n",
       "      <td>0</td>\n",
       "    </tr>\n",
       "    <tr>\n",
       "      <th>96</th>\n",
       "      <td>0</td>\n",
       "      <td>0</td>\n",
       "    </tr>\n",
       "    <tr>\n",
       "      <th>97</th>\n",
       "      <td>1</td>\n",
       "      <td>0</td>\n",
       "    </tr>\n",
       "    <tr>\n",
       "      <th>98</th>\n",
       "      <td>1</td>\n",
       "      <td>1</td>\n",
       "    </tr>\n",
       "    <tr>\n",
       "      <th>99</th>\n",
       "      <td>1</td>\n",
       "      <td>1</td>\n",
       "    </tr>\n",
       "  </tbody>\n",
       "</table>\n",
       "<p>100 rows × 2 columns</p>\n",
       "</div>"
      ],
      "text/plain": [
       "    Original Values  Predictions of Logistic regression\n",
       "0                 0                                   0\n",
       "1                 0                                   0\n",
       "2                 0                                   0\n",
       "3                 0                                   0\n",
       "4                 0                                   0\n",
       "..              ...                                 ...\n",
       "95                1                                   0\n",
       "96                0                                   0\n",
       "97                1                                   0\n",
       "98                1                                   1\n",
       "99                1                                   1\n",
       "\n",
       "[100 rows x 2 columns]"
      ]
     },
     "execution_count": 20,
     "metadata": {},
     "output_type": "execute_result"
    }
   ],
   "source": [
    "df1=pd.DataFrame(y_test,columns=[\"Original Values\"])\n",
    "df2=pd.DataFrame(predictions_logistic,columns=[ \"Predictions of Logistic regression\"])\n",
    "pd.concat([df1,df2],axis=1) \n",
    "#Here we can compare the predictions of our model with the actual values"
   ]
  },
  {
   "cell_type": "code",
   "execution_count": 21,
   "id": "plain-burke",
   "metadata": {
    "execution": {
     "iopub.execute_input": "2021-05-01T23:06:24.756819Z",
     "iopub.status.busy": "2021-05-01T23:06:24.756144Z",
     "iopub.status.idle": "2021-05-01T23:06:24.769464Z",
     "shell.execute_reply": "2021-05-01T23:06:24.770478Z"
    },
    "papermill": {
     "duration": 0.067194,
     "end_time": "2021-05-01T23:06:24.770807",
     "exception": false,
     "start_time": "2021-05-01T23:06:24.703613",
     "status": "completed"
    },
    "tags": []
   },
   "outputs": [
    {
     "name": "stdout",
     "output_type": "stream",
     "text": [
      "              precision    recall  f1-score   support\n",
      "\n",
      "           0       0.89      0.96      0.92        68\n",
      "           1       0.89      0.75      0.81        32\n",
      "\n",
      "    accuracy                           0.89       100\n",
      "   macro avg       0.89      0.85      0.87       100\n",
      "weighted avg       0.89      0.89      0.89       100\n",
      "\n",
      "[[65  3]\n",
      " [ 8 24]]\n",
      "0.89\n"
     ]
    }
   ],
   "source": [
    "from sklearn.metrics import classification_report, confusion_matrix,accuracy_score\n",
    "print(classification_report(y_test, predictions_logistic))\n",
    "print(confusion_matrix(y_test, predictions_logistic))\n",
    "print(accuracy_score(y_test, predictions_logistic))"
   ]
  },
  {
   "cell_type": "code",
   "execution_count": 22,
   "id": "fundamental-slovakia",
   "metadata": {
    "execution": {
     "iopub.execute_input": "2021-05-01T23:06:24.881437Z",
     "iopub.status.busy": "2021-05-01T23:06:24.880734Z",
     "iopub.status.idle": "2021-05-01T23:06:47.367295Z",
     "shell.execute_reply": "2021-05-01T23:06:47.367769Z"
    },
    "papermill": {
     "duration": 22.546868,
     "end_time": "2021-05-01T23:06:47.367948",
     "exception": false,
     "start_time": "2021-05-01T23:06:24.821080",
     "status": "completed"
    },
    "tags": []
   },
   "outputs": [
    {
     "data": {
      "image/png": "[encoded data removed]",
      "text/plain": [
       "<Figure size 432x288 with 1 Axes>"
      ]
     },
     "metadata": {
      "needs_background": "light"
     },
     "output_type": "display_data"
    }
   ],
   "source": [
    "from matplotlib.colors import ListedColormap\n",
    "X_set, y_set = ss.inverse_transform(X_train), y_train\n",
    "X1, X2 = np.meshgrid(np.arange(start = X_set[:, 0].min() - 10, stop = X_set[:, 0].max() + 10, step = 0.25),\n",
    "                     np.arange(start = X_set[:, 1].min() - 1000, stop = X_set[:, 1].max() + 1000, step = 0.25))\n",
    "plt.contourf(X1, X2, logistic.predict(ss.transform(np.array([X1.ravel(), X2.ravel()]).T)).reshape(X1.shape),\n",
    "             alpha = 0.75, cmap = ListedColormap(('red', 'green')))\n",
    "plt.xlim(X1.min(), X1.max())\n",
    "plt.ylim(X2.min(), X2.max())\n",
    "for i, j in enumerate(np.unique(y_set)):\n",
    "    plt.scatter(X_set[y_set == j, 0], X_set[y_set == j, 1], c = ListedColormap(('red', 'green'))(i), label = j)\n",
    "plt.title('Logistic Regression (Training set)')\n",
    "plt.xlabel('Age')\n",
    "plt.ylabel('Estimated Salary')\n",
    "plt.legend()\n",
    "plt.show()\n",
    "#Visualization of the predictions of the Logistic Regression in Train Set"
   ]
  },
  {
   "cell_type": "code",
   "execution_count": 23,
   "id": "furnished-medication",
   "metadata": {
    "execution": {
     "iopub.execute_input": "2021-05-01T23:06:47.468988Z",
     "iopub.status.busy": "2021-05-01T23:06:47.468267Z",
     "iopub.status.idle": "2021-05-01T23:07:08.334607Z",
     "shell.execute_reply": "2021-05-01T23:07:08.335084Z"
    },
    "papermill": {
     "duration": 20.918729,
     "end_time": "2021-05-01T23:07:08.335276",
     "exception": false,
     "start_time": "2021-05-01T23:06:47.416547",
     "status": "completed"
    },
    "tags": []
   },
   "outputs": [
    {
     "data": {
      "image/png": "[encoded data removed]",
      "text/plain": [
       "<Figure size 432x288 with 1 Axes>"
      ]
     },
     "metadata": {
      "needs_background": "light"
     },
     "output_type": "display_data"
    }
   ],
   "source": [
    "from matplotlib.colors import ListedColormap\n",
    "X_set, y_set = ss.inverse_transform(X_test), y_test\n",
    "X1, X2 = np.meshgrid(np.arange(start = X_set[:, 0].min() - 10, stop = X_set[:, 0].max() + 10, step = 0.25),\n",
    "                     np.arange(start = X_set[:, 1].min() - 1000, stop = X_set[:, 1].max() + 1000, step = 0.25))\n",
    "plt.contourf(X1, X2, logistic.predict(ss.transform(np.array([X1.ravel(), X2.ravel()]).T)).reshape(X1.shape),\n",
    "             alpha = 0.75, cmap = ListedColormap(('red', 'green')))\n",
    "plt.xlim(X1.min(), X1.max())\n",
    "plt.ylim(X2.min(), X2.max())\n",
    "for i, j in enumerate(np.unique(y_set)):\n",
    "    plt.scatter(X_set[y_set == j, 0], X_set[y_set == j, 1], c = ListedColormap(('red', 'green'))(i), label = j)\n",
    "plt.title('Logistic Regression (Test set)')\n",
    "plt.xlabel('Age')\n",
    "plt.ylabel('Estimated Salary')\n",
    "plt.legend()\n",
    "plt.show()\n",
    "#Visualization of the predictions of the Logistic Regression in Test Set"
   ]
  },
  {
   "cell_type": "markdown",
   "id": "decreased-jamaica",
   "metadata": {
    "papermill": {
     "duration": 0.04986,
     "end_time": "2021-05-01T23:07:08.435286",
     "exception": false,
     "start_time": "2021-05-01T23:07:08.385426",
     "status": "completed"
    },
    "tags": []
   },
   "source": [
    "## 2. K Nearest Neighbors:"
   ]
  },
  {
   "cell_type": "markdown",
   "id": "parental-horizon",
   "metadata": {
    "papermill": {
     "duration": 0.049431,
     "end_time": "2021-05-01T23:07:08.534851",
     "exception": false,
     "start_time": "2021-05-01T23:07:08.485420",
     "status": "completed"
    },
    "tags": []
   },
   "source": [
    "How Algorithm Works:\n",
    "\n",
    "*K nearest neighbors is a simple algorithm that stores all available cases and classifies new cases based on a similarity measure (e.g., distance functions).\n",
    "\n",
    "Firstly we store all the dataSecondly we calculate the data from x to all points in our data set, x indicationg particular new data point Then we sort the points near data by increasing distance from xFinally we predict the majority label of K, which is number and represent closest points\n",
    "\n",
    "*Choosing a K will effect what class a new point is assigned to: if we choose k=3, then the algorithm looks at the three nearest neighbors to this new point if we set k=6, then the algorithm looks at the six nearest neighbors to this new point and decide according to the majority of these 6 neighbors. If we set larger k values,we get a cleaner cutoff at the expense of mislabelling some points"
   ]
  },
  {
   "cell_type": "code",
   "execution_count": 24,
   "id": "acoustic-board",
   "metadata": {
    "execution": {
     "iopub.execute_input": "2021-05-01T23:07:08.638338Z",
     "iopub.status.busy": "2021-05-01T23:07:08.637631Z",
     "iopub.status.idle": "2021-05-01T23:07:09.022891Z",
     "shell.execute_reply": "2021-05-01T23:07:09.023430Z"
    },
    "papermill": {
     "duration": 0.438761,
     "end_time": "2021-05-01T23:07:09.023610",
     "exception": false,
     "start_time": "2021-05-01T23:07:08.584849",
     "status": "completed"
    },
    "tags": []
   },
   "outputs": [
    {
     "data": {
      "text/plain": [
       "<matplotlib.image.AxesImage at 0x7f7d30c9f450>"
      ]
     },
     "execution_count": 24,
     "metadata": {},
     "output_type": "execute_result"
    },
    {
     "data": {
      "image/png": "[encoded data removed]",
      "text/plain": [
       "<Figure size 1080x720 with 1 Axes>"
      ]
     },
     "metadata": {
      "needs_background": "light"
     },
     "output_type": "display_data"
    }
   ],
   "source": [
    "plt.figure(figsize=(15,10))\n",
    "plt.imshow(plt.imread(\"../input/knneigbor/knn.PNG\"))"
   ]
  },
  {
   "cell_type": "markdown",
   "id": "thick-innocent",
   "metadata": {
    "papermill": {
     "duration": 0.054404,
     "end_time": "2021-05-01T23:07:09.132603",
     "exception": false,
     "start_time": "2021-05-01T23:07:09.078199",
     "status": "completed"
    },
    "tags": []
   },
   "source": [
    "In this case, we have data points of Class A and B. We want to predict what the star (test data point) is. If we consider a k value of 3 (3 nearest data points) we will obtain a prediction of Class B. Yet if we consider a k value of 6, we will obtain a prediction of Class A.Therefore, the value of k is very important for our model's success."
   ]
  },
  {
   "cell_type": "code",
   "execution_count": 25,
   "id": "understanding-bubble",
   "metadata": {
    "execution": {
     "iopub.execute_input": "2021-05-01T23:07:09.245505Z",
     "iopub.status.busy": "2021-05-01T23:07:09.244853Z",
     "iopub.status.idle": "2021-05-01T23:07:09.325795Z",
     "shell.execute_reply": "2021-05-01T23:07:09.325147Z"
    },
    "papermill": {
     "duration": 0.138253,
     "end_time": "2021-05-01T23:07:09.325938",
     "exception": false,
     "start_time": "2021-05-01T23:07:09.187685",
     "status": "completed"
    },
    "tags": []
   },
   "outputs": [],
   "source": [
    "from sklearn.neighbors import KNeighborsClassifier\n"
   ]
  },
  {
   "cell_type": "markdown",
   "id": "handled-woman",
   "metadata": {
    "papermill": {
     "duration": 0.053402,
     "end_time": "2021-05-01T23:07:09.432716",
     "exception": false,
     "start_time": "2021-05-01T23:07:09.379314",
     "status": "completed"
    },
    "tags": []
   },
   "source": [
    "Choosing true k value is very important. Instead of using different k vlaues which will be time consuming, we can use a function in order to choose the best k."
   ]
  },
  {
   "cell_type": "code",
   "execution_count": 26,
   "id": "hired-incidence",
   "metadata": {
    "execution": {
     "iopub.execute_input": "2021-05-01T23:07:09.547401Z",
     "iopub.status.busy": "2021-05-01T23:07:09.546658Z",
     "iopub.status.idle": "2021-05-01T23:07:09.757659Z",
     "shell.execute_reply": "2021-05-01T23:07:09.757094Z"
    },
    "papermill": {
     "duration": 0.271686,
     "end_time": "2021-05-01T23:07:09.757819",
     "exception": false,
     "start_time": "2021-05-01T23:07:09.486133",
     "status": "completed"
    },
    "tags": []
   },
   "outputs": [],
   "source": [
    "error_rate=list()\n",
    "#here we iterate meny different k values and plot their error rates \n",
    "#and discover which one is better than others and has the lowest error rate\n",
    "for i in range(1,40):\n",
    "    knn=KNeighborsClassifier(n_neighbors=i)\n",
    "    knn.fit(X_train,y_train)\n",
    "    prediction_i=knn.predict(X_test)\n",
    "    error_rate.append(np.mean(prediction_i != y_test))"
   ]
  },
  {
   "cell_type": "code",
   "execution_count": 27,
   "id": "interesting-growth",
   "metadata": {
    "execution": {
     "iopub.execute_input": "2021-05-01T23:07:09.895386Z",
     "iopub.status.busy": "2021-05-01T23:07:09.894605Z",
     "iopub.status.idle": "2021-05-01T23:07:10.066164Z",
     "shell.execute_reply": "2021-05-01T23:07:10.065152Z"
    },
    "papermill": {
     "duration": 0.255007,
     "end_time": "2021-05-01T23:07:10.066331",
     "exception": false,
     "start_time": "2021-05-01T23:07:09.811324",
     "status": "completed"
    },
    "tags": []
   },
   "outputs": [
    {
     "data": {
      "text/plain": [
       "Text(0, 0.5, 'Error Rate')"
      ]
     },
     "execution_count": 27,
     "metadata": {},
     "output_type": "execute_result"
    },
    {
     "data": {
      "image/png": "[encoded data removed]",
      "text/plain": [
       "<Figure size 1080x720 with 1 Axes>"
      ]
     },
     "metadata": {
      "needs_background": "light"
     },
     "output_type": "display_data"
    }
   ],
   "source": [
    "# Now we will plot the prediction error rates of different k values\n",
    "plt.figure(figsize=(15,10))\n",
    "plt.plot(range(1,40),error_rate, color=\"blue\", linestyle=\"--\",marker=\"o\",markerfacecolor=\"red\",markersize=10)\n",
    "plt.title(\"Error Rate vs K Value\")\n",
    "plt.xlabel=\"K Value\"\n",
    "plt.ylabel(\"Error Rate\")"
   ]
  },
  {
   "cell_type": "markdown",
   "id": "diagnostic-study",
   "metadata": {
    "papermill": {
     "duration": 0.056978,
     "end_time": "2021-05-01T23:07:10.179656",
     "exception": false,
     "start_time": "2021-05-01T23:07:10.122678",
     "status": "completed"
    },
    "tags": []
   },
   "source": [
    "As we can see in the figure above, k between 5 and 37 gives the least error rate,so we will use it for better predictions"
   ]
  },
  {
   "cell_type": "code",
   "execution_count": 28,
   "id": "damaged-rescue",
   "metadata": {
    "execution": {
     "iopub.execute_input": "2021-05-01T23:07:10.297197Z",
     "iopub.status.busy": "2021-05-01T23:07:10.296490Z",
     "iopub.status.idle": "2021-05-01T23:07:10.304065Z",
     "shell.execute_reply": "2021-05-01T23:07:10.304600Z"
    },
    "papermill": {
     "duration": 0.069867,
     "end_time": "2021-05-01T23:07:10.304773",
     "exception": false,
     "start_time": "2021-05-01T23:07:10.234906",
     "status": "completed"
    },
    "tags": []
   },
   "outputs": [],
   "source": [
    "knn=KNeighborsClassifier(n_neighbors=5) # we choose 5 as neigbor parameter\n",
    "knn.fit(X_train,y_train)\n",
    "knn_predictions=knn.predict(X_test)"
   ]
  },
  {
   "cell_type": "markdown",
   "id": "innovative-needle",
   "metadata": {
    "papermill": {
     "duration": 0.054689,
     "end_time": "2021-05-01T23:07:10.414415",
     "exception": false,
     "start_time": "2021-05-01T23:07:10.359726",
     "status": "completed"
    },
    "tags": []
   },
   "source": [
    "Evaluation of the Performance of  K Neares Neighbors"
   ]
  },
  {
   "cell_type": "code",
   "execution_count": 29,
   "id": "heavy-vault",
   "metadata": {
    "execution": {
     "iopub.execute_input": "2021-05-01T23:07:10.535343Z",
     "iopub.status.busy": "2021-05-01T23:07:10.531929Z",
     "iopub.status.idle": "2021-05-01T23:07:10.543063Z",
     "shell.execute_reply": "2021-05-01T23:07:10.542547Z"
    },
    "papermill": {
     "duration": 0.073537,
     "end_time": "2021-05-01T23:07:10.543207",
     "exception": false,
     "start_time": "2021-05-01T23:07:10.469670",
     "status": "completed"
    },
    "tags": []
   },
   "outputs": [
    {
     "data": {
      "text/html": [
       "<div>\n",
       "<style scoped>\n",
       "    .dataframe tbody tr th:only-of-type {\n",
       "        vertical-align: middle;\n",
       "    }\n",
       "\n",
       "    .dataframe tbody tr th {\n",
       "        vertical-align: top;\n",
       "    }\n",
       "\n",
       "    .dataframe thead th {\n",
       "        text-align: right;\n",
       "    }\n",
       "</style>\n",
       "<table border=\"1\" class=\"dataframe\">\n",
       "  <thead>\n",
       "    <tr style=\"text-align: right;\">\n",
       "      <th></th>\n",
       "      <th>Original Values</th>\n",
       "      <th>Predictions of KNN</th>\n",
       "    </tr>\n",
       "  </thead>\n",
       "  <tbody>\n",
       "    <tr>\n",
       "      <th>0</th>\n",
       "      <td>0</td>\n",
       "      <td>0</td>\n",
       "    </tr>\n",
       "    <tr>\n",
       "      <th>1</th>\n",
       "      <td>0</td>\n",
       "      <td>0</td>\n",
       "    </tr>\n",
       "    <tr>\n",
       "      <th>2</th>\n",
       "      <td>0</td>\n",
       "      <td>0</td>\n",
       "    </tr>\n",
       "    <tr>\n",
       "      <th>3</th>\n",
       "      <td>0</td>\n",
       "      <td>0</td>\n",
       "    </tr>\n",
       "    <tr>\n",
       "      <th>4</th>\n",
       "      <td>0</td>\n",
       "      <td>0</td>\n",
       "    </tr>\n",
       "    <tr>\n",
       "      <th>...</th>\n",
       "      <td>...</td>\n",
       "      <td>...</td>\n",
       "    </tr>\n",
       "    <tr>\n",
       "      <th>95</th>\n",
       "      <td>1</td>\n",
       "      <td>0</td>\n",
       "    </tr>\n",
       "    <tr>\n",
       "      <th>96</th>\n",
       "      <td>0</td>\n",
       "      <td>0</td>\n",
       "    </tr>\n",
       "    <tr>\n",
       "      <th>97</th>\n",
       "      <td>1</td>\n",
       "      <td>1</td>\n",
       "    </tr>\n",
       "    <tr>\n",
       "      <th>98</th>\n",
       "      <td>1</td>\n",
       "      <td>1</td>\n",
       "    </tr>\n",
       "    <tr>\n",
       "      <th>99</th>\n",
       "      <td>1</td>\n",
       "      <td>1</td>\n",
       "    </tr>\n",
       "  </tbody>\n",
       "</table>\n",
       "<p>100 rows × 2 columns</p>\n",
       "</div>"
      ],
      "text/plain": [
       "    Original Values  Predictions of KNN\n",
       "0                 0                   0\n",
       "1                 0                   0\n",
       "2                 0                   0\n",
       "3                 0                   0\n",
       "4                 0                   0\n",
       "..              ...                 ...\n",
       "95                1                   0\n",
       "96                0                   0\n",
       "97                1                   1\n",
       "98                1                   1\n",
       "99                1                   1\n",
       "\n",
       "[100 rows x 2 columns]"
      ]
     },
     "execution_count": 29,
     "metadata": {},
     "output_type": "execute_result"
    }
   ],
   "source": [
    "df1=pd.DataFrame(y_test,columns=[\"Original Values\"])\n",
    "df2=pd.DataFrame(knn_predictions,columns=[ \"Predictions of KNN\"])\n",
    "pd.concat([df1,df2],axis=1) "
   ]
  },
  {
   "cell_type": "code",
   "execution_count": 30,
   "id": "numerical-radiation",
   "metadata": {
    "execution": {
     "iopub.execute_input": "2021-05-01T23:07:10.666029Z",
     "iopub.status.busy": "2021-05-01T23:07:10.660651Z",
     "iopub.status.idle": "2021-05-01T23:07:10.669632Z",
     "shell.execute_reply": "2021-05-01T23:07:10.670088Z"
    },
    "papermill": {
     "duration": 0.070615,
     "end_time": "2021-05-01T23:07:10.670299",
     "exception": false,
     "start_time": "2021-05-01T23:07:10.599684",
     "status": "completed"
    },
    "tags": []
   },
   "outputs": [
    {
     "name": "stdout",
     "output_type": "stream",
     "text": [
      "              precision    recall  f1-score   support\n",
      "\n",
      "           0       0.96      0.94      0.95        68\n",
      "           1       0.88      0.91      0.89        32\n",
      "\n",
      "    accuracy                           0.93       100\n",
      "   macro avg       0.92      0.92      0.92       100\n",
      "weighted avg       0.93      0.93      0.93       100\n",
      "\n",
      "[[64  4]\n",
      " [ 3 29]]\n",
      "0.93\n"
     ]
    }
   ],
   "source": [
    "print(classification_report(y_test, knn_predictions))\n",
    "print(confusion_matrix(y_test, knn_predictions))\n",
    "print(accuracy_score(y_test, knn_predictions))\n",
    "#KNN has higher performance than Logistic Regression in this dataset"
   ]
  },
  {
   "cell_type": "markdown",
   "id": "careful-sherman",
   "metadata": {
    "papermill": {
     "duration": 0.055685,
     "end_time": "2021-05-01T23:07:10.782310",
     "exception": false,
     "start_time": "2021-05-01T23:07:10.726625",
     "status": "completed"
    },
    "tags": []
   },
   "source": [
    "Visualization of Training Set Results"
   ]
  },
  {
   "cell_type": "code",
   "execution_count": 31,
   "id": "stunning-passing",
   "metadata": {
    "execution": {
     "iopub.execute_input": "2021-05-01T23:07:10.907354Z",
     "iopub.status.busy": "2021-05-01T23:07:10.906658Z",
     "iopub.status.idle": "2021-05-01T23:12:31.039342Z",
     "shell.execute_reply": "2021-05-01T23:12:31.038520Z"
    },
    "papermill": {
     "duration": 320.200487,
     "end_time": "2021-05-01T23:12:31.039497",
     "exception": false,
     "start_time": "2021-05-01T23:07:10.839010",
     "status": "completed"
    },
    "tags": []
   },
   "outputs": [
    {
     "ename": "TypeError",
     "evalue": "'str' object is not callable",
     "output_type": "error",
     "traceback": [
      "\u001b[0;31m---------------------------------------------------------------------------\u001b[0m",
      "\u001b[0;31mTypeError\u001b[0m                                 Traceback (most recent call last)",
      "\u001b[0;32m<ipython-input-31-09c27052b408>\u001b[0m in \u001b[0;36m<module>\u001b[0;34m\u001b[0m\n\u001b[1;32m     10\u001b[0m     \u001b[0mplt\u001b[0m\u001b[0;34m.\u001b[0m\u001b[0mscatter\u001b[0m\u001b[0;34m(\u001b[0m\u001b[0mX_set\u001b[0m\u001b[0;34m[\u001b[0m\u001b[0my_set\u001b[0m \u001b[0;34m==\u001b[0m \u001b[0mj\u001b[0m\u001b[0;34m,\u001b[0m \u001b[0;36m0\u001b[0m\u001b[0;34m]\u001b[0m\u001b[0;34m,\u001b[0m \u001b[0mX_set\u001b[0m\u001b[0;34m[\u001b[0m\u001b[0my_set\u001b[0m \u001b[0;34m==\u001b[0m \u001b[0mj\u001b[0m\u001b[0;34m,\u001b[0m \u001b[0;36m1\u001b[0m\u001b[0;34m]\u001b[0m\u001b[0;34m,\u001b[0m \u001b[0mc\u001b[0m \u001b[0;34m=\u001b[0m \u001b[0mListedColormap\u001b[0m\u001b[0;34m(\u001b[0m\u001b[0;34m(\u001b[0m\u001b[0;34m'blue'\u001b[0m\u001b[0;34m,\u001b[0m \u001b[0;34m'purple'\u001b[0m\u001b[0;34m)\u001b[0m\u001b[0;34m)\u001b[0m\u001b[0;34m(\u001b[0m\u001b[0mi\u001b[0m\u001b[0;34m)\u001b[0m\u001b[0;34m,\u001b[0m \u001b[0mlabel\u001b[0m \u001b[0;34m=\u001b[0m \u001b[0mj\u001b[0m\u001b[0;34m)\u001b[0m\u001b[0;34m\u001b[0m\u001b[0;34m\u001b[0m\u001b[0m\n\u001b[1;32m     11\u001b[0m \u001b[0mplt\u001b[0m\u001b[0;34m.\u001b[0m\u001b[0mtitle\u001b[0m\u001b[0;34m(\u001b[0m\u001b[0;34m'K-NN (Training set)'\u001b[0m\u001b[0;34m)\u001b[0m\u001b[0;34m\u001b[0m\u001b[0;34m\u001b[0m\u001b[0m\n\u001b[0;32m---> 12\u001b[0;31m \u001b[0mplt\u001b[0m\u001b[0;34m.\u001b[0m\u001b[0mxlabel\u001b[0m\u001b[0;34m(\u001b[0m\u001b[0;34m'Age'\u001b[0m\u001b[0;34m)\u001b[0m\u001b[0;34m\u001b[0m\u001b[0;34m\u001b[0m\u001b[0m\n\u001b[0m\u001b[1;32m     13\u001b[0m \u001b[0mplt\u001b[0m\u001b[0;34m.\u001b[0m\u001b[0mylabel\u001b[0m\u001b[0;34m(\u001b[0m\u001b[0;34m'Estimated Salary'\u001b[0m\u001b[0;34m)\u001b[0m\u001b[0;34m\u001b[0m\u001b[0;34m\u001b[0m\u001b[0m\n\u001b[1;32m     14\u001b[0m \u001b[0mplt\u001b[0m\u001b[0;34m.\u001b[0m\u001b[0mlegend\u001b[0m\u001b[0;34m(\u001b[0m\u001b[0;34m)\u001b[0m\u001b[0;34m\u001b[0m\u001b[0;34m\u001b[0m\u001b[0m\n",
      "\u001b[0;31mTypeError\u001b[0m: 'str' object is not callable"
     ]
    },
    {
     "data": {
      "image/png": "[encoded data removed]",
      "text/plain": [
       "<Figure size 432x288 with 1 Axes>"
      ]
     },
     "metadata": {
      "needs_background": "light"
     },
     "output_type": "display_data"
    }
   ],
   "source": [
    "from matplotlib.colors import ListedColormap\n",
    "X_set, y_set = ss.inverse_transform(X_train), y_train\n",
    "X1, X2 = np.meshgrid(np.arange(start = X_set[:, 0].min() - 10, stop = X_set[:, 0].max() + 10, step = 1),\n",
    "                     np.arange(start = X_set[:, 1].min() - 1000, stop = X_set[:, 1].max() + 1000, step = 1))\n",
    "plt.contourf(X1, X2, knn.predict(ss.transform(np.array([X1.ravel(), X2.ravel()]).T)).reshape(X1.shape),\n",
    "             alpha = 0.75, cmap = ListedColormap(('blue', 'purple')))\n",
    "plt.xlim(X1.min(), X1.max())\n",
    "plt.ylim(X2.min(), X2.max())\n",
    "for i, j in enumerate(np.unique(y_set)):\n",
    "    plt.scatter(X_set[y_set == j, 0], X_set[y_set == j, 1], c = ListedColormap(('blue', 'purple'))(i), label = j)\n",
    "plt.title('K-NN (Training set)')\n",
    "plt.xlabel('Age')\n",
    "plt.ylabel('Estimated Salary')\n",
    "plt.legend()\n",
    "plt.show()"
   ]
  },
  {
   "cell_type": "markdown",
   "id": "functioning-piano",
   "metadata": {
    "papermill": {
     "duration": 0.058888,
     "end_time": "2021-05-01T23:12:31.157532",
     "exception": false,
     "start_time": "2021-05-01T23:12:31.098644",
     "status": "completed"
    },
    "tags": []
   },
   "source": [
    "Visualising the Test set results"
   ]
  },
  {
   "cell_type": "code",
   "execution_count": 32,
   "id": "statutory-communist",
   "metadata": {
    "execution": {
     "iopub.execute_input": "2021-05-01T23:12:31.286187Z",
     "iopub.status.busy": "2021-05-01T23:12:31.285551Z",
     "iopub.status.idle": "2021-05-01T23:17:50.036315Z",
     "shell.execute_reply": "2021-05-01T23:17:50.036844Z"
    },
    "papermill": {
     "duration": 318.821377,
     "end_time": "2021-05-01T23:17:50.037024",
     "exception": false,
     "start_time": "2021-05-01T23:12:31.215647",
     "status": "completed"
    },
    "tags": []
   },
   "outputs": [
    {
     "data": {
      "image/png": "[encoded data removed]",
      "text/plain": [
       "<Figure size 432x288 with 1 Axes>"
      ]
     },
     "metadata": {
      "needs_background": "light"
     },
     "output_type": "display_data"
    }
   ],
   "source": [
    "from matplotlib.colors import ListedColormap\n",
    "X_set, y_set = ss.inverse_transform(X_test), y_test\n",
    "X1, X2 = np.meshgrid(np.arange(start = X_set[:, 0].min() - 10, stop = X_set[:, 0].max() + 10, step = 1),\n",
    "                     np.arange(start = X_set[:, 1].min() - 1000, stop = X_set[:, 1].max() + 1000, step = 1))\n",
    "plt.contourf(X1, X2, knn.predict(ss.transform(np.array([X1.ravel(), X2.ravel()]).T)).reshape(X1.shape),\n",
    "             alpha = 0.75, cmap = ListedColormap(('blue', 'purple')))\n",
    "plt.xlim(X1.min(), X1.max())\n",
    "plt.ylim(X2.min(), X2.max())\n",
    "for i, j in enumerate(np.unique(y_set)):\n",
    "    plt.scatter(X_set[y_set == j, 0], X_set[y_set == j, 1], c = ListedColormap(('blue', 'purple'))(i), label = j)\n",
    "plt.title('K-NN (Test set)')\n",
    "#plt.xlabel('Age')\n",
    "plt.ylabel('Estimated Salary')\n",
    "plt.legend()\n",
    "plt.show()"
   ]
  },
  {
   "cell_type": "markdown",
   "id": "animal-rider",
   "metadata": {
    "papermill": {
     "duration": 0.059343,
     "end_time": "2021-05-01T23:17:50.155834",
     "exception": false,
     "start_time": "2021-05-01T23:17:50.096491",
     "status": "completed"
    },
    "tags": []
   },
   "source": [
    "## 3. Decision Tree Classifier"
   ]
  },
  {
   "cell_type": "code",
   "execution_count": 33,
   "id": "raising-influence",
   "metadata": {
    "execution": {
     "iopub.execute_input": "2021-05-01T23:17:50.281175Z",
     "iopub.status.busy": "2021-05-01T23:17:50.280504Z",
     "iopub.status.idle": "2021-05-01T23:17:50.323897Z",
     "shell.execute_reply": "2021-05-01T23:17:50.323331Z"
    },
    "papermill": {
     "duration": 0.108382,
     "end_time": "2021-05-01T23:17:50.324136",
     "exception": false,
     "start_time": "2021-05-01T23:17:50.215754",
     "status": "completed"
    },
    "tags": []
   },
   "outputs": [],
   "source": [
    "from sklearn.tree import DecisionTreeClassifier\n",
    "dtree=DecisionTreeClassifier()\n",
    "dtree.fit(X_train, y_train)\n",
    "dtree_predictions= dtree.predict(X_test)"
   ]
  },
  {
   "cell_type": "code",
   "execution_count": 34,
   "id": "fiscal-subdivision",
   "metadata": {
    "execution": {
     "iopub.execute_input": "2021-05-01T23:17:50.459875Z",
     "iopub.status.busy": "2021-05-01T23:17:50.453426Z",
     "iopub.status.idle": "2021-05-01T23:17:50.464674Z",
     "shell.execute_reply": "2021-05-01T23:17:50.464031Z"
    },
    "papermill": {
     "duration": 0.078773,
     "end_time": "2021-05-01T23:17:50.464813",
     "exception": false,
     "start_time": "2021-05-01T23:17:50.386040",
     "status": "completed"
    },
    "tags": []
   },
   "outputs": [
    {
     "data": {
      "text/html": [
       "<div>\n",
       "<style scoped>\n",
       "    .dataframe tbody tr th:only-of-type {\n",
       "        vertical-align: middle;\n",
       "    }\n",
       "\n",
       "    .dataframe tbody tr th {\n",
       "        vertical-align: top;\n",
       "    }\n",
       "\n",
       "    .dataframe thead th {\n",
       "        text-align: right;\n",
       "    }\n",
       "</style>\n",
       "<table border=\"1\" class=\"dataframe\">\n",
       "  <thead>\n",
       "    <tr style=\"text-align: right;\">\n",
       "      <th></th>\n",
       "      <th>Original Values</th>\n",
       "      <th>Predictions of Decision Tree Classifier</th>\n",
       "    </tr>\n",
       "  </thead>\n",
       "  <tbody>\n",
       "    <tr>\n",
       "      <th>0</th>\n",
       "      <td>0</td>\n",
       "      <td>0</td>\n",
       "    </tr>\n",
       "    <tr>\n",
       "      <th>1</th>\n",
       "      <td>0</td>\n",
       "      <td>0</td>\n",
       "    </tr>\n",
       "    <tr>\n",
       "      <th>2</th>\n",
       "      <td>0</td>\n",
       "      <td>0</td>\n",
       "    </tr>\n",
       "    <tr>\n",
       "      <th>3</th>\n",
       "      <td>0</td>\n",
       "      <td>0</td>\n",
       "    </tr>\n",
       "    <tr>\n",
       "      <th>4</th>\n",
       "      <td>0</td>\n",
       "      <td>0</td>\n",
       "    </tr>\n",
       "    <tr>\n",
       "      <th>...</th>\n",
       "      <td>...</td>\n",
       "      <td>...</td>\n",
       "    </tr>\n",
       "    <tr>\n",
       "      <th>95</th>\n",
       "      <td>1</td>\n",
       "      <td>1</td>\n",
       "    </tr>\n",
       "    <tr>\n",
       "      <th>96</th>\n",
       "      <td>0</td>\n",
       "      <td>0</td>\n",
       "    </tr>\n",
       "    <tr>\n",
       "      <th>97</th>\n",
       "      <td>1</td>\n",
       "      <td>1</td>\n",
       "    </tr>\n",
       "    <tr>\n",
       "      <th>98</th>\n",
       "      <td>1</td>\n",
       "      <td>1</td>\n",
       "    </tr>\n",
       "    <tr>\n",
       "      <th>99</th>\n",
       "      <td>1</td>\n",
       "      <td>1</td>\n",
       "    </tr>\n",
       "  </tbody>\n",
       "</table>\n",
       "<p>100 rows × 2 columns</p>\n",
       "</div>"
      ],
      "text/plain": [
       "    Original Values  Predictions of Decision Tree Classifier\n",
       "0                 0                                        0\n",
       "1                 0                                        0\n",
       "2                 0                                        0\n",
       "3                 0                                        0\n",
       "4                 0                                        0\n",
       "..              ...                                      ...\n",
       "95                1                                        1\n",
       "96                0                                        0\n",
       "97                1                                        1\n",
       "98                1                                        1\n",
       "99                1                                        1\n",
       "\n",
       "[100 rows x 2 columns]"
      ]
     },
     "execution_count": 34,
     "metadata": {},
     "output_type": "execute_result"
    }
   ],
   "source": [
    "df1=pd.DataFrame(y_test,columns=[\"Original Values\"])\n",
    "df2=pd.DataFrame(dtree_predictions,columns=[ \"Predictions of Decision Tree Classifier\"])\n",
    "pd.concat([df1,df2],axis=1) "
   ]
  },
  {
   "cell_type": "code",
   "execution_count": 35,
   "id": "surgical-second",
   "metadata": {
    "execution": {
     "iopub.execute_input": "2021-05-01T23:17:50.592103Z",
     "iopub.status.busy": "2021-05-01T23:17:50.591085Z",
     "iopub.status.idle": "2021-05-01T23:17:50.602353Z",
     "shell.execute_reply": "2021-05-01T23:17:50.601775Z"
    },
    "papermill": {
     "duration": 0.077538,
     "end_time": "2021-05-01T23:17:50.602501",
     "exception": false,
     "start_time": "2021-05-01T23:17:50.524963",
     "status": "completed"
    },
    "tags": []
   },
   "outputs": [
    {
     "name": "stdout",
     "output_type": "stream",
     "text": [
      "              precision    recall  f1-score   support\n",
      "\n",
      "           0       0.94      0.91      0.93        68\n",
      "           1       0.82      0.88      0.85        32\n",
      "\n",
      "    accuracy                           0.90       100\n",
      "   macro avg       0.88      0.89      0.89       100\n",
      "weighted avg       0.90      0.90      0.90       100\n",
      "\n",
      "[[62  6]\n",
      " [ 4 28]]\n",
      "0.9\n"
     ]
    }
   ],
   "source": [
    "print(classification_report(y_test, dtree_predictions))\n",
    "print(confusion_matrix(y_test, dtree_predictions))\n",
    "print(accuracy_score(y_test, dtree_predictions))\n",
    "#Decision has higher performance than Logistic Regression, but lower than KNN  in this dataset"
   ]
  },
  {
   "cell_type": "markdown",
   "id": "determined-minutes",
   "metadata": {
    "papermill": {
     "duration": 0.060351,
     "end_time": "2021-05-01T23:17:50.723186",
     "exception": false,
     "start_time": "2021-05-01T23:17:50.662835",
     "status": "completed"
    },
    "tags": []
   },
   "source": [
    "Visualising the Training set results"
   ]
  },
  {
   "cell_type": "code",
   "execution_count": 36,
   "id": "revolutionary-snowboard",
   "metadata": {
    "execution": {
     "iopub.execute_input": "2021-05-01T23:17:50.856197Z",
     "iopub.status.busy": "2021-05-01T23:17:50.855441Z",
     "iopub.status.idle": "2021-05-01T23:18:19.880367Z",
     "shell.execute_reply": "2021-05-01T23:18:19.880945Z"
    },
    "papermill": {
     "duration": 29.09708,
     "end_time": "2021-05-01T23:18:19.881125",
     "exception": false,
     "start_time": "2021-05-01T23:17:50.784045",
     "status": "completed"
    },
    "tags": []
   },
   "outputs": [
    {
     "ename": "TypeError",
     "evalue": "'str' object is not callable",
     "output_type": "error",
     "traceback": [
      "\u001b[0;31m---------------------------------------------------------------------------\u001b[0m",
      "\u001b[0;31mTypeError\u001b[0m                                 Traceback (most recent call last)",
      "\u001b[0;32m<ipython-input-36-780009a4e0d6>\u001b[0m in \u001b[0;36m<module>\u001b[0;34m\u001b[0m\n\u001b[1;32m     10\u001b[0m     \u001b[0mplt\u001b[0m\u001b[0;34m.\u001b[0m\u001b[0mscatter\u001b[0m\u001b[0;34m(\u001b[0m\u001b[0mX_set\u001b[0m\u001b[0;34m[\u001b[0m\u001b[0my_set\u001b[0m \u001b[0;34m==\u001b[0m \u001b[0mj\u001b[0m\u001b[0;34m,\u001b[0m \u001b[0;36m0\u001b[0m\u001b[0;34m]\u001b[0m\u001b[0;34m,\u001b[0m \u001b[0mX_set\u001b[0m\u001b[0;34m[\u001b[0m\u001b[0my_set\u001b[0m \u001b[0;34m==\u001b[0m \u001b[0mj\u001b[0m\u001b[0;34m,\u001b[0m \u001b[0;36m1\u001b[0m\u001b[0;34m]\u001b[0m\u001b[0;34m,\u001b[0m \u001b[0mc\u001b[0m \u001b[0;34m=\u001b[0m \u001b[0mListedColormap\u001b[0m\u001b[0;34m(\u001b[0m\u001b[0;34m(\u001b[0m\u001b[0;34m'red'\u001b[0m\u001b[0;34m,\u001b[0m \u001b[0;34m'green'\u001b[0m\u001b[0;34m)\u001b[0m\u001b[0;34m)\u001b[0m\u001b[0;34m(\u001b[0m\u001b[0mi\u001b[0m\u001b[0;34m)\u001b[0m\u001b[0;34m,\u001b[0m \u001b[0mlabel\u001b[0m \u001b[0;34m=\u001b[0m \u001b[0mj\u001b[0m\u001b[0;34m)\u001b[0m\u001b[0;34m\u001b[0m\u001b[0;34m\u001b[0m\u001b[0m\n\u001b[1;32m     11\u001b[0m \u001b[0mplt\u001b[0m\u001b[0;34m.\u001b[0m\u001b[0mtitle\u001b[0m\u001b[0;34m(\u001b[0m\u001b[0;34m'Decision Tree Classification (Training set)'\u001b[0m\u001b[0;34m)\u001b[0m\u001b[0;34m\u001b[0m\u001b[0;34m\u001b[0m\u001b[0m\n\u001b[0;32m---> 12\u001b[0;31m \u001b[0mplt\u001b[0m\u001b[0;34m.\u001b[0m\u001b[0mxlabel\u001b[0m\u001b[0;34m(\u001b[0m\u001b[0;34m'Age'\u001b[0m\u001b[0;34m)\u001b[0m\u001b[0;34m\u001b[0m\u001b[0;34m\u001b[0m\u001b[0m\n\u001b[0m\u001b[1;32m     13\u001b[0m \u001b[0mplt\u001b[0m\u001b[0;34m.\u001b[0m\u001b[0mylabel\u001b[0m\u001b[0;34m(\u001b[0m\u001b[0;34m'Estimated Salary'\u001b[0m\u001b[0;34m)\u001b[0m\u001b[0;34m\u001b[0m\u001b[0;34m\u001b[0m\u001b[0m\n\u001b[1;32m     14\u001b[0m \u001b[0mplt\u001b[0m\u001b[0;34m.\u001b[0m\u001b[0mlegend\u001b[0m\u001b[0;34m(\u001b[0m\u001b[0;34m)\u001b[0m\u001b[0;34m\u001b[0m\u001b[0;34m\u001b[0m\u001b[0m\n",
      "\u001b[0;31mTypeError\u001b[0m: 'str' object is not callable"
     ]
    },
    {
     "data": {
      "image/png": "[encoded data removed]",
      "text/plain": [
       "<Figure size 432x288 with 1 Axes>"
      ]
     },
     "metadata": {
      "needs_background": "light"
     },
     "output_type": "display_data"
    }
   ],
   "source": [
    "from matplotlib.colors import ListedColormap\n",
    "X_set, y_set = ss.inverse_transform(X_train), y_train\n",
    "X1, X2 = np.meshgrid(np.arange(start = X_set[:, 0].min() - 10, stop = X_set[:, 0].max() + 10, step = 0.25),\n",
    "                     np.arange(start = X_set[:, 1].min() - 1000, stop = X_set[:, 1].max() + 1000, step = 0.25))\n",
    "plt.contourf(X1, X2, dtree.predict(ss.transform(np.array([X1.ravel(), X2.ravel()]).T)).reshape(X1.shape),\n",
    "             alpha = 0.75, cmap = ListedColormap(('red', 'green')))\n",
    "plt.xlim(X1.min(), X1.max())\n",
    "plt.ylim(X2.min(), X2.max())\n",
    "for i, j in enumerate(np.unique(y_set)):\n",
    "    plt.scatter(X_set[y_set == j, 0], X_set[y_set == j, 1], c = ListedColormap(('red', 'green'))(i), label = j)\n",
    "plt.title('Decision Tree Classification (Training set)')\n",
    "plt.xlabel('Age')\n",
    "plt.ylabel('Estimated Salary')\n",
    "plt.legend()\n",
    "plt.show()"
   ]
  },
  {
   "cell_type": "markdown",
   "id": "familiar-criticism",
   "metadata": {
    "papermill": {
     "duration": 0.061269,
     "end_time": "2021-05-01T23:18:20.004861",
     "exception": false,
     "start_time": "2021-05-01T23:18:19.943592",
     "status": "completed"
    },
    "tags": []
   },
   "source": [
    "Visualising the Test set results\n"
   ]
  },
  {
   "cell_type": "code",
   "execution_count": 37,
   "id": "rapid-dealing",
   "metadata": {
    "execution": {
     "iopub.execute_input": "2021-05-01T23:18:20.138781Z",
     "iopub.status.busy": "2021-05-01T23:18:20.137991Z",
     "iopub.status.idle": "2021-05-01T23:18:48.380848Z",
     "shell.execute_reply": "2021-05-01T23:18:48.381420Z"
    },
    "papermill": {
     "duration": 28.315278,
     "end_time": "2021-05-01T23:18:48.381617",
     "exception": false,
     "start_time": "2021-05-01T23:18:20.066339",
     "status": "completed"
    },
    "tags": []
   },
   "outputs": [
    {
     "ename": "TypeError",
     "evalue": "'str' object is not callable",
     "output_type": "error",
     "traceback": [
      "\u001b[0;31m---------------------------------------------------------------------------\u001b[0m",
      "\u001b[0;31mTypeError\u001b[0m                                 Traceback (most recent call last)",
      "\u001b[0;32m<ipython-input-37-bf14eb871ca1>\u001b[0m in \u001b[0;36m<module>\u001b[0;34m\u001b[0m\n\u001b[1;32m      9\u001b[0m     \u001b[0mplt\u001b[0m\u001b[0;34m.\u001b[0m\u001b[0mscatter\u001b[0m\u001b[0;34m(\u001b[0m\u001b[0mX_set\u001b[0m\u001b[0;34m[\u001b[0m\u001b[0my_set\u001b[0m \u001b[0;34m==\u001b[0m \u001b[0mj\u001b[0m\u001b[0;34m,\u001b[0m \u001b[0;36m0\u001b[0m\u001b[0;34m]\u001b[0m\u001b[0;34m,\u001b[0m \u001b[0mX_set\u001b[0m\u001b[0;34m[\u001b[0m\u001b[0my_set\u001b[0m \u001b[0;34m==\u001b[0m \u001b[0mj\u001b[0m\u001b[0;34m,\u001b[0m \u001b[0;36m1\u001b[0m\u001b[0;34m]\u001b[0m\u001b[0;34m,\u001b[0m \u001b[0mc\u001b[0m \u001b[0;34m=\u001b[0m \u001b[0mListedColormap\u001b[0m\u001b[0;34m(\u001b[0m\u001b[0;34m(\u001b[0m\u001b[0;34m'red'\u001b[0m\u001b[0;34m,\u001b[0m \u001b[0;34m'green'\u001b[0m\u001b[0;34m)\u001b[0m\u001b[0;34m)\u001b[0m\u001b[0;34m(\u001b[0m\u001b[0mi\u001b[0m\u001b[0;34m)\u001b[0m\u001b[0;34m,\u001b[0m \u001b[0mlabel\u001b[0m \u001b[0;34m=\u001b[0m \u001b[0mj\u001b[0m\u001b[0;34m)\u001b[0m\u001b[0;34m\u001b[0m\u001b[0;34m\u001b[0m\u001b[0m\n\u001b[1;32m     10\u001b[0m \u001b[0mplt\u001b[0m\u001b[0;34m.\u001b[0m\u001b[0mtitle\u001b[0m\u001b[0;34m(\u001b[0m\u001b[0;34m'Decision Tree Classification (Test set)'\u001b[0m\u001b[0;34m)\u001b[0m\u001b[0;34m\u001b[0m\u001b[0;34m\u001b[0m\u001b[0m\n\u001b[0;32m---> 11\u001b[0;31m \u001b[0mplt\u001b[0m\u001b[0;34m.\u001b[0m\u001b[0mxlabel\u001b[0m\u001b[0;34m(\u001b[0m\u001b[0;34m'Age'\u001b[0m\u001b[0;34m)\u001b[0m\u001b[0;34m\u001b[0m\u001b[0;34m\u001b[0m\u001b[0m\n\u001b[0m\u001b[1;32m     12\u001b[0m \u001b[0mplt\u001b[0m\u001b[0;34m.\u001b[0m\u001b[0mylabel\u001b[0m\u001b[0;34m(\u001b[0m\u001b[0;34m'Estimated Salary'\u001b[0m\u001b[0;34m)\u001b[0m\u001b[0;34m\u001b[0m\u001b[0;34m\u001b[0m\u001b[0m\n\u001b[1;32m     13\u001b[0m \u001b[0mplt\u001b[0m\u001b[0;34m.\u001b[0m\u001b[0mlegend\u001b[0m\u001b[0;34m\u001b[0m\u001b[0;34m\u001b[0m\u001b[0m\n",
      "\u001b[0;31mTypeError\u001b[0m: 'str' object is not callable"
     ]
    },
    {
     "data": {
      "image/png": "[encoded data removed]",
      "text/plain": [
       "<Figure size 432x288 with 1 Axes>"
      ]
     },
     "metadata": {
      "needs_background": "light"
     },
     "output_type": "display_data"
    }
   ],
   "source": [
    "X_set, y_set = ss.inverse_transform(X_test), y_test\n",
    "X1, X2 = np.meshgrid(np.arange(start = X_set[:, 0].min() - 10, stop = X_set[:, 0].max() + 10, step = 0.25),\n",
    "                     np.arange(start = X_set[:, 1].min() - 1000, stop = X_set[:, 1].max() + 1000, step = 0.25))\n",
    "plt.contourf(X1, X2, dtree.predict(ss.transform(np.array([X1.ravel(), X2.ravel()]).T)).reshape(X1.shape),\n",
    "             alpha = 0.75, cmap = ListedColormap(('red', 'green')))\n",
    "plt.xlim(X1.min(), X1.max())\n",
    "plt.ylim(X2.min(), X2.max())\n",
    "for i, j in enumerate(np.unique(y_set)):\n",
    "    plt.scatter(X_set[y_set == j, 0], X_set[y_set == j, 1], c = ListedColormap(('red', 'green'))(i), label = j)\n",
    "plt.title('Decision Tree Classification (Test set)')\n",
    "plt.xlabel('Age')\n",
    "plt.ylabel('Estimated Salary')\n",
    "plt.legend"
   ]
  },
  {
   "cell_type": "markdown",
   "id": "average-aluminum",
   "metadata": {
    "papermill": {
     "duration": 0.062937,
     "end_time": "2021-05-01T23:18:48.509004",
     "exception": false,
     "start_time": "2021-05-01T23:18:48.446067",
     "status": "completed"
    },
    "tags": []
   },
   "source": [
    "## 4. Random Forest Classifier"
   ]
  },
  {
   "cell_type": "code",
   "execution_count": 38,
   "id": "forward-ebony",
   "metadata": {
    "execution": {
     "iopub.execute_input": "2021-05-01T23:18:48.640642Z",
     "iopub.status.busy": "2021-05-01T23:18:48.639916Z",
     "iopub.status.idle": "2021-05-01T23:18:48.873041Z",
     "shell.execute_reply": "2021-05-01T23:18:48.872457Z"
    },
    "papermill": {
     "duration": 0.300884,
     "end_time": "2021-05-01T23:18:48.873180",
     "exception": false,
     "start_time": "2021-05-01T23:18:48.572296",
     "status": "completed"
    },
    "tags": []
   },
   "outputs": [],
   "source": [
    "from sklearn.ensemble import RandomForestClassifier\n",
    "random=RandomForestClassifier()\n",
    "random.fit(X_train,y_train)\n",
    "random_predictions= random.predict(X_test)"
   ]
  },
  {
   "cell_type": "code",
   "execution_count": 39,
   "id": "copyrighted-check",
   "metadata": {
    "execution": {
     "iopub.execute_input": "2021-05-01T23:18:49.014728Z",
     "iopub.status.busy": "2021-05-01T23:18:49.014054Z",
     "iopub.status.idle": "2021-05-01T23:18:49.017120Z",
     "shell.execute_reply": "2021-05-01T23:18:49.017698Z"
    },
    "papermill": {
     "duration": 0.080309,
     "end_time": "2021-05-01T23:18:49.017860",
     "exception": false,
     "start_time": "2021-05-01T23:18:48.937551",
     "status": "completed"
    },
    "tags": []
   },
   "outputs": [
    {
     "data": {
      "text/html": [
       "<div>\n",
       "<style scoped>\n",
       "    .dataframe tbody tr th:only-of-type {\n",
       "        vertical-align: middle;\n",
       "    }\n",
       "\n",
       "    .dataframe tbody tr th {\n",
       "        vertical-align: top;\n",
       "    }\n",
       "\n",
       "    .dataframe thead th {\n",
       "        text-align: right;\n",
       "    }\n",
       "</style>\n",
       "<table border=\"1\" class=\"dataframe\">\n",
       "  <thead>\n",
       "    <tr style=\"text-align: right;\">\n",
       "      <th></th>\n",
       "      <th>Original Values</th>\n",
       "      <th>Predictions of Random Forest Classifier</th>\n",
       "    </tr>\n",
       "  </thead>\n",
       "  <tbody>\n",
       "    <tr>\n",
       "      <th>0</th>\n",
       "      <td>0</td>\n",
       "      <td>0</td>\n",
       "    </tr>\n",
       "    <tr>\n",
       "      <th>1</th>\n",
       "      <td>0</td>\n",
       "      <td>0</td>\n",
       "    </tr>\n",
       "    <tr>\n",
       "      <th>2</th>\n",
       "      <td>0</td>\n",
       "      <td>0</td>\n",
       "    </tr>\n",
       "    <tr>\n",
       "      <th>3</th>\n",
       "      <td>0</td>\n",
       "      <td>0</td>\n",
       "    </tr>\n",
       "    <tr>\n",
       "      <th>4</th>\n",
       "      <td>0</td>\n",
       "      <td>0</td>\n",
       "    </tr>\n",
       "    <tr>\n",
       "      <th>...</th>\n",
       "      <td>...</td>\n",
       "      <td>...</td>\n",
       "    </tr>\n",
       "    <tr>\n",
       "      <th>95</th>\n",
       "      <td>1</td>\n",
       "      <td>0</td>\n",
       "    </tr>\n",
       "    <tr>\n",
       "      <th>96</th>\n",
       "      <td>0</td>\n",
       "      <td>0</td>\n",
       "    </tr>\n",
       "    <tr>\n",
       "      <th>97</th>\n",
       "      <td>1</td>\n",
       "      <td>1</td>\n",
       "    </tr>\n",
       "    <tr>\n",
       "      <th>98</th>\n",
       "      <td>1</td>\n",
       "      <td>1</td>\n",
       "    </tr>\n",
       "    <tr>\n",
       "      <th>99</th>\n",
       "      <td>1</td>\n",
       "      <td>1</td>\n",
       "    </tr>\n",
       "  </tbody>\n",
       "</table>\n",
       "<p>100 rows × 2 columns</p>\n",
       "</div>"
      ],
      "text/plain": [
       "    Original Values  Predictions of Random Forest Classifier\n",
       "0                 0                                        0\n",
       "1                 0                                        0\n",
       "2                 0                                        0\n",
       "3                 0                                        0\n",
       "4                 0                                        0\n",
       "..              ...                                      ...\n",
       "95                1                                        0\n",
       "96                0                                        0\n",
       "97                1                                        1\n",
       "98                1                                        1\n",
       "99                1                                        1\n",
       "\n",
       "[100 rows x 2 columns]"
      ]
     },
     "execution_count": 39,
     "metadata": {},
     "output_type": "execute_result"
    }
   ],
   "source": [
    "df1=pd.DataFrame(y_test,columns=[\"Original Values\"])\n",
    "df2=pd.DataFrame(random_predictions,columns=[ \"Predictions of Random Forest Classifier\"])\n",
    "pd.concat([df1,df2],axis=1) "
   ]
  },
  {
   "cell_type": "code",
   "execution_count": 40,
   "id": "suburban-google",
   "metadata": {
    "execution": {
     "iopub.execute_input": "2021-05-01T23:18:49.150535Z",
     "iopub.status.busy": "2021-05-01T23:18:49.149911Z",
     "iopub.status.idle": "2021-05-01T23:18:49.162906Z",
     "shell.execute_reply": "2021-05-01T23:18:49.162363Z"
    },
    "papermill": {
     "duration": 0.080113,
     "end_time": "2021-05-01T23:18:49.163042",
     "exception": false,
     "start_time": "2021-05-01T23:18:49.082929",
     "status": "completed"
    },
    "tags": []
   },
   "outputs": [
    {
     "name": "stdout",
     "output_type": "stream",
     "text": [
      "              precision    recall  f1-score   support\n",
      "\n",
      "           0       0.94      0.93      0.93        68\n",
      "           1       0.85      0.88      0.86        32\n",
      "\n",
      "    accuracy                           0.91       100\n",
      "   macro avg       0.89      0.90      0.90       100\n",
      "weighted avg       0.91      0.91      0.91       100\n",
      "\n",
      "[[63  5]\n",
      " [ 4 28]]\n",
      "0.91\n"
     ]
    }
   ],
   "source": [
    "print(classification_report(y_test, random_predictions))\n",
    "print(confusion_matrix(y_test, random_predictions))\n",
    "print(accuracy_score(y_test, random_predictions))\n",
    "#Random Forest has the second best position after K Nearest Neighbors Algorithm"
   ]
  },
  {
   "cell_type": "markdown",
   "id": "noble-despite",
   "metadata": {
    "papermill": {
     "duration": 0.064586,
     "end_time": "2021-05-01T23:18:49.292564",
     "exception": false,
     "start_time": "2021-05-01T23:18:49.227978",
     "status": "completed"
    },
    "tags": []
   },
   "source": [
    "Visualising the Training set results"
   ]
  },
  {
   "cell_type": "code",
   "execution_count": 41,
   "id": "great-confirmation",
   "metadata": {
    "execution": {
     "iopub.execute_input": "2021-05-01T23:18:49.434927Z",
     "iopub.status.busy": "2021-05-01T23:18:49.434145Z",
     "iopub.status.idle": "2021-05-01T23:32:33.968090Z",
     "shell.execute_reply": "2021-05-01T23:32:33.968707Z"
    },
    "papermill": {
     "duration": 824.611037,
     "end_time": "2021-05-01T23:32:33.969086",
     "exception": false,
     "start_time": "2021-05-01T23:18:49.358049",
     "status": "completed"
    },
    "tags": []
   },
   "outputs": [
    {
     "ename": "TypeError",
     "evalue": "'str' object is not callable",
     "output_type": "error",
     "traceback": [
      "\u001b[0;31m---------------------------------------------------------------------------\u001b[0m",
      "\u001b[0;31mTypeError\u001b[0m                                 Traceback (most recent call last)",
      "\u001b[0;32m<ipython-input-41-c245178c0f2f>\u001b[0m in \u001b[0;36m<module>\u001b[0;34m\u001b[0m\n\u001b[1;32m      9\u001b[0m     \u001b[0mplt\u001b[0m\u001b[0;34m.\u001b[0m\u001b[0mscatter\u001b[0m\u001b[0;34m(\u001b[0m\u001b[0mX_set\u001b[0m\u001b[0;34m[\u001b[0m\u001b[0my_set\u001b[0m \u001b[0;34m==\u001b[0m \u001b[0mj\u001b[0m\u001b[0;34m,\u001b[0m \u001b[0;36m0\u001b[0m\u001b[0;34m]\u001b[0m\u001b[0;34m,\u001b[0m \u001b[0mX_set\u001b[0m\u001b[0;34m[\u001b[0m\u001b[0my_set\u001b[0m \u001b[0;34m==\u001b[0m \u001b[0mj\u001b[0m\u001b[0;34m,\u001b[0m \u001b[0;36m1\u001b[0m\u001b[0;34m]\u001b[0m\u001b[0;34m,\u001b[0m \u001b[0mc\u001b[0m \u001b[0;34m=\u001b[0m \u001b[0mListedColormap\u001b[0m\u001b[0;34m(\u001b[0m\u001b[0;34m(\u001b[0m\u001b[0;34m'red'\u001b[0m\u001b[0;34m,\u001b[0m \u001b[0;34m'green'\u001b[0m\u001b[0;34m)\u001b[0m\u001b[0;34m)\u001b[0m\u001b[0;34m(\u001b[0m\u001b[0mi\u001b[0m\u001b[0;34m)\u001b[0m\u001b[0;34m,\u001b[0m \u001b[0mlabel\u001b[0m \u001b[0;34m=\u001b[0m \u001b[0mj\u001b[0m\u001b[0;34m)\u001b[0m\u001b[0;34m\u001b[0m\u001b[0;34m\u001b[0m\u001b[0m\n\u001b[1;32m     10\u001b[0m \u001b[0mplt\u001b[0m\u001b[0;34m.\u001b[0m\u001b[0mtitle\u001b[0m\u001b[0;34m(\u001b[0m\u001b[0;34m'Random Forest Classification (Training set)'\u001b[0m\u001b[0;34m)\u001b[0m\u001b[0;34m\u001b[0m\u001b[0;34m\u001b[0m\u001b[0m\n\u001b[0;32m---> 11\u001b[0;31m \u001b[0mplt\u001b[0m\u001b[0;34m.\u001b[0m\u001b[0mxlabel\u001b[0m\u001b[0;34m(\u001b[0m\u001b[0;34m'Age'\u001b[0m\u001b[0;34m)\u001b[0m\u001b[0;34m\u001b[0m\u001b[0;34m\u001b[0m\u001b[0m\n\u001b[0m\u001b[1;32m     12\u001b[0m \u001b[0mplt\u001b[0m\u001b[0;34m.\u001b[0m\u001b[0mylabel\u001b[0m\u001b[0;34m(\u001b[0m\u001b[0;34m'Estimated Salary'\u001b[0m\u001b[0;34m)\u001b[0m\u001b[0;34m\u001b[0m\u001b[0;34m\u001b[0m\u001b[0m\n\u001b[1;32m     13\u001b[0m \u001b[0mplt\u001b[0m\u001b[0;34m.\u001b[0m\u001b[0mlegend\u001b[0m\u001b[0;34m(\u001b[0m\u001b[0;34m)\u001b[0m\u001b[0;34m\u001b[0m\u001b[0;34m\u001b[0m\u001b[0m\n",
      "\u001b[0;31mTypeError\u001b[0m: 'str' object is not callable"
     ]
    },
    {
     "data": {
      "image/png": "[encoded data removed]",
      "text/plain": [
       "<Figure size 432x288 with 1 Axes>"
      ]
     },
     "metadata": {
      "needs_background": "light"
     },
     "output_type": "display_data"
    }
   ],
   "source": [
    "\n",
    "X_set, y_set = ss.inverse_transform(X_train), y_train\n",
    "X1, X2 = np.meshgrid(np.arange(start = X_set[:, 0].min() - 10, stop = X_set[:, 0].max() + 10, step = 0.25),\n",
    "                     np.arange(start = X_set[:, 1].min() - 1000, stop = X_set[:, 1].max() + 1000, step = 0.25))\n",
    "plt.contourf(X1, X2, random.predict(ss.transform(np.array([X1.ravel(), X2.ravel()]).T)).reshape(X1.shape),\n",
    "             alpha = 0.75, cmap = ListedColormap(('red', 'green')))\n",
    "plt.xlim(X1.min(), X1.max())\n",
    "plt.ylim(X2.min(), X2.max())\n",
    "for i, j in enumerate(np.unique(y_set)):\n",
    "    plt.scatter(X_set[y_set == j, 0], X_set[y_set == j, 1], c = ListedColormap(('red', 'green'))(i), label = j)\n",
    "plt.title('Random Forest Classification (Training set)')\n",
    "plt.xlabel('Age')\n",
    "plt.ylabel('Estimated Salary')\n",
    "plt.legend()\n",
    "plt.show()"
   ]
  },
  {
   "cell_type": "markdown",
   "id": "rocky-journalism",
   "metadata": {
    "papermill": {
     "duration": 0.068917,
     "end_time": "2021-05-01T23:32:34.106520",
     "exception": false,
     "start_time": "2021-05-01T23:32:34.037603",
     "status": "completed"
    },
    "tags": []
   },
   "source": [
    "Visualising the Test set results"
   ]
  }
 ],
 "metadata": {
  "kernelspec": {
   "display_name": "Python 3",
   "language": "python",
   "name": "python3"
  },
  "language_info": {
   "codemirror_mode": {
    "name": "ipython",
    "version": 3
   },
   "file_extension": ".py",
   "mimetype": "text/x-python",
   "name": "python",
   "nbconvert_exporter": "python",
   "pygments_lexer": "ipython3",
   "version": "3.7.10"
  },
  "papermill": {
   "default_parameters": {},
   "duration": 1584.513063,
   "end_time": "2021-05-01T23:32:35.700519",
   "environment_variables": {},
   "exception": null,
   "input_path": "__notebook__.ipynb",
   "output_path": "__notebook__.ipynb",
   "parameters": {},
   "start_time": "2021-05-01T23:06:11.187456",
   "version": "2.3.3"
  }
 },
 "nbformat": 4,
 "nbformat_minor": 5
}
